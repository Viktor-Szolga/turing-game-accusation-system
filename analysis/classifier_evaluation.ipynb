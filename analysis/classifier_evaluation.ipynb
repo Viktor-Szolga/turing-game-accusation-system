{
 "cells": [
  {
   "cell_type": "code",
   "execution_count": 1,
   "id": "d4a7d842",
   "metadata": {},
   "outputs": [],
   "source": [
    "import torch\n",
    "import numpy as np\n",
    "import pickle\n",
    "from openai import OpenAI\n",
    "import random\n",
    "from tqdm import tqdm\n",
    "import matplotlib.pyplot as plt\n",
    "from collections import defaultdict\n",
    "from sklearn.metrics import roc_curve, precision_recall_curve, auc\n",
    "import matplotlib.pyplot as plt\n",
    "import numpy as np"
   ]
  },
  {
   "cell_type": "code",
   "execution_count": 2,
   "id": "ae253e87",
   "metadata": {},
   "outputs": [],
   "source": [
    "torch.manual_seed(42)\n",
    "np.random.seed(42)\n",
    "random.seed(42)"
   ]
  },
  {
   "cell_type": "code",
   "execution_count": 3,
   "id": "e357284b",
   "metadata": {},
   "outputs": [],
   "source": [
    "with open(\"data/190325_data.pkl\", \"rb\") as f:\n",
    "    train_chat_data = pickle.load(f)\n",
    "    \n",
    "# Remove service chat\n",
    "del train_chat_data[-1000]"
   ]
  },
  {
   "cell_type": "code",
   "execution_count": 4,
   "id": "c6258f88",
   "metadata": {},
   "outputs": [],
   "source": [
    "with open(\"data/100925_data.pkl\", \"rb\") as f:\n",
    "    chat_data = pickle.load(f)\n",
    "    \n",
    "# Remove service chat\n",
    "del chat_data[-1000]"
   ]
  },
  {
   "cell_type": "code",
   "execution_count": 5,
   "id": "c7c9e8af",
   "metadata": {},
   "outputs": [
    {
     "name": "stdout",
     "output_type": "stream",
     "text": [
      "9631\n",
      "9631\n"
     ]
    }
   ],
   "source": [
    "messages = []\n",
    "labels = []\n",
    "game_ids = []\n",
    "user_ids = []\n",
    "languages = []\n",
    "for game_id, game_data in chat_data.items():\n",
    "    if game_id in train_chat_data.keys():\n",
    "        continue\n",
    "    for message in game_data[\"messages\"]:\n",
    "        if message[\"userID\"] == \"GameMaster\":\n",
    "            if \"won\" in message[\"message\"] or \"surrendered\" in message[\"message\"] or \"canceled\" in message[\"message\"] or \"lost\" in message[\"message\"] or \"timed out\" in message[\"message\"] or \"disconnected\" in message[\"message\"]:\n",
    "                break\n",
    "            else:\n",
    "                continue\n",
    "        messages.append(message[\"message\"])\n",
    "        labels.append([int(not message[\"botID\"]), message[\"botID\"]])\n",
    "        game_ids.append(message[\"gameID\"])\n",
    "        user_ids.append(message[\"userID\"])\n",
    "        if game_data[\"language\"] is None:\n",
    "            languages.append(\"en\")\n",
    "        else:\n",
    "            languages.append(game_data[\"language\"])\n",
    "        \n",
    "print(len(messages))\n",
    "print(len(labels))"
   ]
  },
  {
   "cell_type": "code",
   "execution_count": 6,
   "id": "1a473d88",
   "metadata": {},
   "outputs": [],
   "source": [
    "class NaiveBayesClassifier:\n",
    "    def __init__(self, path_to_state_dict):\n",
    "        class MessageClassifier(torch.nn.Module):\n",
    "            def __init__(self, input_size, hidden_sizes, output_size, dropout=0.75):\n",
    "                super().__init__()\n",
    "                self.activation = torch.nn.ReLU()\n",
    "                layers = []\n",
    "                current_size = input_size\n",
    "                for hidden_size in hidden_sizes:\n",
    "                    layers.append(torch.nn.Linear(current_size, hidden_size))\n",
    "                    layers.append(torch.nn.BatchNorm1d(hidden_size))\n",
    "                    layers.append(torch.nn.ReLU())\n",
    "                    layers.append(torch.nn.Dropout(dropout))\n",
    "                    current_size = hidden_size\n",
    "                layers.append(torch.nn.Linear(current_size, output_size))\n",
    "        \n",
    "                self.model = torch.nn.Sequential(*layers)\n",
    "        \n",
    "            def forward(self, x):\n",
    "                return self.model(x)\n",
    "\n",
    "        \n",
    "        self.device = \"cuda\" if torch.cuda.is_available() else \"cpu\"\n",
    "        self.client = OpenAI(\n",
    "                            api_key=\"EMPTY\",\n",
    "                            base_url=\"http://localhost:8000/v1\"\n",
    "                        )\n",
    "        self.embedding_model = \"intfloat/multilingual-e5-large-instruct\"\n",
    "\n",
    "        self.classifier = MessageClassifier(1024, [48, 24], 2, dropout=0.85)\n",
    "        self.classifier.to(self.device)\n",
    "        self.classifier.load_state_dict(torch.load(path_to_state_dict, weights_only=True))\n",
    "        self.classifier.eval()\n",
    "\n",
    "    def predict(self, message: str):\n",
    "        # Classifies a message as human (negative score) or bot (positive score).\n",
    "        embedding = torch.tensor(self.client.embeddings.create(input = [message], model=self.embedding_model).data[0].embedding)\n",
    "        pred = self.classifier(embedding.unsqueeze(dim=0)).squeeze()\n",
    "        return (pred[1]-pred[0]).item()\n",
    "            "
   ]
  },
  {
   "cell_type": "code",
   "execution_count": 7,
   "id": "9ef36359",
   "metadata": {},
   "outputs": [],
   "source": [
    "classifier = NaiveBayesClassifier(\"models/run082.pth\")"
   ]
  },
  {
   "cell_type": "code",
   "execution_count": 8,
   "id": "7f20909f",
   "metadata": {},
   "outputs": [
    {
     "data": {
      "text/plain": [
       "-2.65248703956604"
      ]
     },
     "execution_count": 8,
     "metadata": {},
     "output_type": "execute_result"
    }
   ],
   "source": [
    "classifier.predict(\"test\")\n",
    "classifier.predict(\"bot\")\n",
    "classifier.predict(\"hi\")\n",
    "classifier.predict(\"hey guys how are you\")"
   ]
  },
  {
   "cell_type": "code",
   "execution_count": 9,
   "id": "4b6a5250",
   "metadata": {},
   "outputs": [],
   "source": [
    "messages_with_i_dont_know= []\n",
    "user_ids_with_i_dont_know = []\n",
    "messages_with_idk = []\n",
    "user_ids_with_idk = []\n",
    "for message, user_id in zip(messages, user_ids):\n",
    "    if \"i dont know\" in message:\n",
    "        messages_with_i_dont_know.append(message)\n",
    "        user_ids_with_i_dont_know.append(user_id)\n",
    "    \n",
    "    if \"idk\" in message:\n",
    "        messages_with_idk.append(message)\n",
    "        user_ids_with_idk.append(user_id)"
   ]
  },
  {
   "cell_type": "code",
   "execution_count": 10,
   "id": "efde7007",
   "metadata": {},
   "outputs": [
    {
     "name": "stdout",
     "output_type": "stream",
     "text": [
      "idk, cant just guess\n",
      "1.6309330463409424\n",
      "After changing\n",
      "i don't know, cant just guess\n",
      "1.3250558376312256\n",
      "idk bro\n",
      "-1.5366469621658325\n",
      "After changing\n",
      "i don't know bro\n",
      "-0.7560179233551025\n",
      "idk\n",
      "-1.837700605392456\n",
      "After changing\n",
      "i don't know\n",
      "-2.0457558631896973\n"
     ]
    }
   ],
   "source": [
    "for user_id, message in zip(user_ids_with_idk[:3], messages_with_idk[:3]):\n",
    "    print(message)\n",
    "    print(classifier.predict(message))\n",
    "    print(\"After changing\")\n",
    "    print(message.replace(\"idk\", \"i don't know\"))\n",
    "    print(classifier.predict(message.replace(\"idk\", \"i don't know\")))"
   ]
  },
  {
   "cell_type": "code",
   "execution_count": 11,
   "id": "60efd433",
   "metadata": {},
   "outputs": [],
   "source": [
    "messages_with_how_about_you= []\n",
    "user_ids_with_how_about_you = []\n",
    "messages_with_hbu = []\n",
    "user_ids_with_hbu = []\n",
    "\n",
    "message_with_bot = []\n",
    "user_ids_with_bot = []\n",
    "for message, user_id in zip(messages, user_ids):\n",
    "    if \"how about you\" in message:\n",
    "        messages_with_how_about_you.append(message)\n",
    "        user_ids_with_how_about_you.append(user_id)\n",
    "    \n",
    "    if \"hbu\" in message:\n",
    "        messages_with_hbu.append(message)\n",
    "        user_ids_with_hbu.append(user_id)\n",
    "    if \"bot\" in message:\n",
    "        message_with_bot.append(message)\n",
    "        user_ids_with_bot.append(user_id)"
   ]
  },
  {
   "cell_type": "code",
   "execution_count": 12,
   "id": "5ee807e3",
   "metadata": {},
   "outputs": [
    {
     "name": "stdout",
     "output_type": "stream",
     "text": [
      "-1.2802646160125732\n",
      "-3.184713363647461\n"
     ]
    }
   ],
   "source": [
    "print(classifier.predict(\"how about you\"))\n",
    "print(classifier.predict(\"hbu\"))"
   ]
  },
  {
   "cell_type": "code",
   "execution_count": 13,
   "id": "853a2f6c",
   "metadata": {},
   "outputs": [
    {
     "name": "stdout",
     "output_type": "stream",
     "text": [
      "how about you, Red?\n",
      "0.13095107674598694\n",
      "After changing\n",
      "hbu, Red?\n",
      "0.3028487265110016\n",
      "I enjoy action movies how about you\n",
      "4.188089370727539\n",
      "After changing\n",
      "I enjoy action movies hbu\n",
      "1.6950793266296387\n",
      "I like espresso mostly, how about you?\n",
      "2.2999796867370605\n",
      "After changing\n",
      "I like espresso mostly, hbu?\n",
      "2.514404773712158\n"
     ]
    }
   ],
   "source": [
    "for user_id, message in zip(user_ids_with_how_about_you[:3], messages_with_how_about_you[:3]):\n",
    "    print(message)\n",
    "    print(classifier.predict(message))\n",
    "    print(\"After changing\")\n",
    "    print(message.replace(\"how about you\", \"hbu\"))\n",
    "    print(classifier.predict(message.replace(\"how about you\", \"hbu\")))"
   ]
  },
  {
   "cell_type": "code",
   "execution_count": 14,
   "id": "16832e13",
   "metadata": {},
   "outputs": [
    {
     "name": "stdout",
     "output_type": "stream",
     "text": [
      "red hbu\n",
      "-2.7308268547058105\n",
      "After changing\n",
      "red how about you\n",
      "-2.0165741443634033\n",
      "its lexie ditchburn\n",
      "-1.5671110153198242\n",
      "After changing\n",
      "its lexie ditchow about yourn\n",
      "-1.7464357614517212\n",
      "good hbu\n",
      "-2.089043140411377\n",
      "After changing\n",
      "good how about you\n",
      "-1.4912000894546509\n",
      "hbu?\n",
      "-1.5022770166397095\n",
      "After changing\n",
      "how about you?\n",
      "-1.3939704895019531\n"
     ]
    }
   ],
   "source": [
    "for user_id, message in zip(user_ids_with_hbu[:4], messages_with_hbu[:4]):\n",
    "    print(message)\n",
    "    print(classifier.predict(message))\n",
    "    print(\"After changing\")\n",
    "    print(message.replace(\"hbu\", \"how about you\"))\n",
    "    print(classifier.predict(message.replace(\"hbu\", \"how about you\")))"
   ]
  },
  {
   "cell_type": "code",
   "execution_count": 15,
   "id": "fed3d628",
   "metadata": {},
   "outputs": [
    {
     "name": "stdout",
     "output_type": "stream",
     "text": [
      "Who is the bot?\n",
      "-3.9564385414123535\n",
      "Hi Blue. Would you agree that yellow os the bot?\n",
      "-1.611377239227295\n",
      "So let's play the game! Who is the bot?\n",
      "-2.1624462604522705\n",
      "so you are human or bot\n",
      "-3.2869205474853516\n",
      "are you was on human or bot\n",
      "-3.148477554321289\n",
      " i dont mean somthing but there was a same name and same country on chat or bot \n",
      "-0.303500771522522\n",
      "What do you both work? I already told you my work, so please tell me yours.\n",
      "-1.5244137048721313\n",
      "ok both of you convince me you are human\n",
      "-2.441359519958496\n",
      "na dann bist Du @Purple ein KI Chatbot?\n",
      "-3.7053639888763428\n",
      "cool, hey bot, what is your opinion about that\n",
      "-1.149780035018921\n",
      "Messages with 'bot' got an average score of -2.151104892840226\n"
     ]
    }
   ],
   "source": [
    "for user_id, message in zip(user_ids_with_bot[:10], message_with_bot[:10]):\n",
    "    print(message)\n",
    "    print(classifier.predict(message))\n",
    "    #print(\"After changing\")\n",
    "    #print(message.replace(\"how about you\", \"hbu\"))\n",
    "    #print(classifier.predict(message.replace(\"how about you\", \"hbu\")))\n",
    "\n",
    "total = 0\n",
    "for message in message_with_bot:\n",
    "    total += classifier.predict(message)\n",
    "print(f\"Messages with 'bot' got an average score of {total/len(message_with_bot)}\")"
   ]
  },
  {
   "cell_type": "code",
   "execution_count": 16,
   "id": "c463b911",
   "metadata": {},
   "outputs": [
    {
     "name": "stdout",
     "output_type": "stream",
     "text": [
      "yeah im here\n",
      "-0.3300672769546509\n",
      "After changing\n",
      "yeah im here bot\n",
      "-1.8590456247329712\n",
      "fajnie tam\n"
     ]
    },
    {
     "name": "stdout",
     "output_type": "stream",
     "text": [
      "-1.2335546016693115\n",
      "After changing\n",
      "fajnie tam bot\n",
      "-1.6671712398529053\n",
      "what do you like to do\n",
      "-0.1263180673122406\n",
      "After changing\n",
      "what do you like to do bot\n",
      "-1.7560027837753296\n",
      "ok, weiter gehts\n",
      "0.5398737192153931\n",
      "After changing\n",
      "ok, weiter gehts bot\n",
      "-1.7745866775512695\n",
      "ach so, dann vergiss es.\n",
      "-1.5488241910934448\n",
      "After changing\n",
      "ach so, dann vergiss es. bot\n",
      "-1.769914150238037\n"
     ]
    }
   ],
   "source": [
    "random.seed(42)\n",
    "i = 0\n",
    "while i < 5:\n",
    "    idx = random.randint(0, len(messages)-1)\n",
    "    message = messages[idx]\n",
    "    user_id = user_ids[idx]\n",
    "    if user_id != '0':\n",
    "        continue\n",
    "    print(message)\n",
    "    print(classifier.predict(message))\n",
    "    print(\"After changing\")\n",
    "    message = message + \" bot\"\n",
    "    print(message)\n",
    "    print(classifier.predict(message))\n",
    "    i += 1"
   ]
  },
  {
   "cell_type": "code",
   "execution_count": 17,
   "id": "732d2cab",
   "metadata": {},
   "outputs": [
    {
     "name": "stdout",
     "output_type": "stream",
     "text": [
      "cool, hey bot, what is your opinion about that\n",
      "209\n"
     ]
    }
   ],
   "source": [
    "print(message_with_bot[9])\n",
    "print(len(message_with_bot))"
   ]
  },
  {
   "cell_type": "code",
   "execution_count": 19,
   "id": "b0a668e4",
   "metadata": {},
   "outputs": [],
   "source": [
    "def get_player_scores(classifier, threshold=1):\n",
    "    with open(\"data/190325_data.pkl\", \"rb\") as f:\n",
    "        chat_data = pickle.load(f)\n",
    "\n",
    "    with open(\"data/100925_data.pkl\", \"rb\") as f:\n",
    "        test_data = pickle.load(f)\n",
    "\n",
    "    evaluated_ids = []\n",
    "    player_scores_per_game = []\n",
    "    for game_id in tqdm(test_data.keys(), desc=\"Evaluating\", total=len(test_data.keys())):\n",
    "        if game_id in chat_data.keys():\n",
    "            continue\n",
    "        game = test_data[game_id]\n",
    "        evaluated_ids.append(game_id)\n",
    "        player_scores = defaultdict(float)\n",
    "        \n",
    "        for message in game[\"messages\"]:\n",
    "            if message[\"userID\"] == \"GameMaster\":\n",
    "                if \"won\" in message[\"message\"] or \"surrendered\" in message[\"message\"] or \"canceled\" in message[\"message\"] or \"lost\" in message[\"message\"] or \"timed out\" in message[\"message\"] or \"disconnected\" in message[\"message\"]:\n",
    "                    break\n",
    "                else:\n",
    "                    continue\n",
    "            else:\n",
    "                if message[\"botID\"]:\n",
    "                    player_scores[\"bot\"] += classifier.predict(message[\"message\"])\n",
    "                else:\n",
    "                    player_scores[message[\"color\"]] += classifier.predict(message[\"message\"])        \n",
    "\n",
    "        if \"bot\" not in player_scores.keys():\n",
    "            player_scores[\"bot\"] = 0\n",
    "        while len(player_scores.keys()) < 3:\n",
    "            player_scores[f\"simulated_player_{3-len(player_scores.keys())}\"] = 0\n",
    "        \n",
    "        player_scores_per_game.append(player_scores)\n",
    "    return player_scores_per_game, evaluated_ids"
   ]
  },
  {
   "cell_type": "code",
   "execution_count": 20,
   "id": "6fe0ba6f",
   "metadata": {},
   "outputs": [],
   "source": [
    "def evaluate_on_old_games(player_scores_per_game, threshold=1):\n",
    "    true_positives = 0\n",
    "    false_positives = 0\n",
    "    false_game_ids = []\n",
    "    false_negative = 0\n",
    "\n",
    "    with open(\"data/corresponding_game_ids.pkl\", \"rb\") as f:\n",
    "        game_ids = pickle.load(f)\n",
    "\n",
    "    for game_scores, game_id in zip(player_scores_per_game, game_ids):\n",
    "\n",
    "        colors = list(game_scores.keys())\n",
    "        for player in colors:\n",
    "            if player == \"bot\":\n",
    "                continue\n",
    "\n",
    "            bot_score = game_scores[\"bot\"]\n",
    "            human_score = game_scores[player]\n",
    "\n",
    "            if bot_score - human_score > threshold:\n",
    "                # Classifier would accuse the bot\n",
    "                true_positives += 1\n",
    "            elif human_score - bot_score > threshold:\n",
    "                # Classifier would accuse a human\n",
    "                false_positives += 1\n",
    "                false_game_ids.append(game_id)\n",
    "            else:\n",
    "                # No accusation\n",
    "                false_negative += 1\n",
    "                false_game_ids.append(game_id)\n",
    "    return true_positives, false_positives, false_negative, false_game_ids"
   ]
  },
  {
   "cell_type": "code",
   "execution_count": 21,
   "id": "d88271eb",
   "metadata": {},
   "outputs": [
    {
     "name": "stderr",
     "output_type": "stream",
     "text": [
      "Evaluating: 100%|██████████| 2421/2421 [14:57<00:00,  2.70it/s] \n"
     ]
    }
   ],
   "source": [
    "player_scores_per_game, game_ids = get_player_scores(classifier)\n",
    "with open(\"data/precomputed_player_scores.pkl\", \"wb\") as f:\n",
    "    pickle.dump(player_scores_per_game, f)\n",
    "with open(\"data/corresponding_game_ids.pkl\", \"wb\") as f:\n",
    "    pickle.dump(game_ids, f)"
   ]
  },
  {
   "cell_type": "code",
   "execution_count": 22,
   "id": "f74c6d86",
   "metadata": {},
   "outputs": [
    {
     "name": "stdout",
     "output_type": "stream",
     "text": [
      "Evaluated 861 games\n"
     ]
    }
   ],
   "source": [
    "print(f\"Evaluated {len(game_ids)} games\")"
   ]
  },
  {
   "cell_type": "code",
   "execution_count": 23,
   "id": "9b1a6ea1",
   "metadata": {},
   "outputs": [],
   "source": [
    "tp, fp, fn, false_game_ids_threshold_3= evaluate_on_old_games(player_scores_per_game, threshold=3)"
   ]
  },
  {
   "cell_type": "code",
   "execution_count": 24,
   "id": "3fe5c7c3",
   "metadata": {},
   "outputs": [],
   "source": [
    "precision = tp / (tp + fp) if (tp + fp) > 0 else 0.0\n",
    "recall = tp / (tp + fn) if (tp + fn) > 0 else 0.0\n",
    "f1_score = 2 * precision * recall / (precision + recall) if (precision + recall) > 0 else 0.0\n",
    "false_discovery_rate = fp / (tp + fp) if (tp + fp) > 0 else 0.0\n",
    "miss_rate = fn / (tp + fn) if (tp + fn) > 0 else 0.0"
   ]
  },
  {
   "cell_type": "code",
   "execution_count": 25,
   "id": "8ec51c66",
   "metadata": {},
   "outputs": [
    {
     "name": "stdout",
     "output_type": "stream",
     "text": [
      "True Positives (TP):          1057\n",
      "False Positives (FP):         50\n",
      "False Negatives (FN):         617\n",
      "\n",
      "Precision:                    0.9548\n",
      "Recall (TPR):                 0.6314\n",
      "F1 Score:                     0.7602\n",
      "False Discovery Rate (FDR):   0.0452\n",
      "Miss Rate (FNR):              0.3686\n"
     ]
    }
   ],
   "source": [
    "print(f\"True Positives (TP):          {tp}\")\n",
    "print(f\"False Positives (FP):         {fp}\")\n",
    "print(f\"False Negatives (FN):         {fn}\")\n",
    "print()\n",
    "print(f\"Precision:                    {precision:.4f}\")\n",
    "print(f\"Recall (TPR):                 {recall:.4f}\")\n",
    "print(f\"F1 Score:                     {f1_score:.4f}\")\n",
    "print(f\"False Discovery Rate (FDR):   {false_discovery_rate:.4f}\")\n",
    "print(f\"Miss Rate (FNR):              {miss_rate:.4f}\")"
   ]
  },
  {
   "cell_type": "code",
   "execution_count": 42,
   "id": "7a1cbe87",
   "metadata": {},
   "outputs": [
    {
     "name": "stdout",
     "output_type": "stream",
     "text": [
      "True Positives (TP):          908\n",
      "False Positives (FP):         33\n",
      "False Negatives (FN):         783\n",
      "\n",
      "Precision:                    0.9649\n",
      "Recall (TPR):                 0.5370\n",
      "F1 Score:                     0.6900\n",
      "False Discovery Rate (FDR):   0.0351\n",
      "Miss Rate (FNR):              0.4630\n"
     ]
    }
   ],
   "source": [
    "tp, fp, fn, false_game_ids_threshold_1 = evaluate_on_old_games(player_scores_per_game, threshold=5)\n",
    "precision = tp / (tp + fp) if (tp + fp) > 0 else 0.0\n",
    "recall = tp / (tp + fn) if (tp + fn) > 0 else 0.0\n",
    "f1_score = 2 * precision * recall / (precision + recall) if (precision + recall) > 0 else 0.0\n",
    "false_discovery_rate = fp / (tp + fp) if (tp + fp) > 0 else 0.0\n",
    "miss_rate = fn / (tp + fn) if (tp + fn) > 0 else 0.0\n",
    "print(f\"True Positives (TP):          {tp}\")\n",
    "print(f\"False Positives (FP):         {fp}\")\n",
    "print(f\"False Negatives (FN):         {fn}\")\n",
    "print()\n",
    "print(f\"Precision:                    {precision:.4f}\")\n",
    "print(f\"Recall (TPR):                 {recall:.4f}\")\n",
    "print(f\"F1 Score:                     {f1_score:.4f}\")\n",
    "print(f\"False Discovery Rate (FDR):   {false_discovery_rate:.4f}\")\n",
    "print(f\"Miss Rate (FNR):              {miss_rate:.4f}\")"
   ]
  },
  {
   "cell_type": "code",
   "execution_count": 29,
   "id": "6dd48c39",
   "metadata": {},
   "outputs": [],
   "source": [
    "with open(\"data/false_game_ids_threshold_1.pkl\", \"wb\") as f:\n",
    "    pickle.dump(false_game_ids_threshold_1, f)\n",
    "with open(\"data/false_game_ids_threshold_3.pkl\", \"wb\") as f:\n",
    "    pickle.dump(false_game_ids_threshold_3, f)"
   ]
  },
  {
   "cell_type": "code",
   "execution_count": 30,
   "id": "6c3fc32a",
   "metadata": {},
   "outputs": [],
   "source": [
    "def evaluate_threshold_curve(player_scores_per_game):\n",
    "    thresholds = np.linspace(0, 5, 100)\n",
    "    precisions = []\n",
    "    recalls = []\n",
    "    f1_scores = []\n",
    "\n",
    "    for threshold in thresholds:\n",
    "        tp = 0\n",
    "        fp = 0\n",
    "        fn = 0\n",
    "\n",
    "        for scores in player_scores_per_game:\n",
    "            bot_score = scores[\"bot\"]\n",
    "            for player, human_score in scores.items():\n",
    "                if player == \"bot\":\n",
    "                    continue\n",
    "\n",
    "                if bot_score - human_score > threshold:\n",
    "                    tp += 1\n",
    "                elif human_score - bot_score > threshold:\n",
    "                    fp += 1\n",
    "                else:\n",
    "                    fn += 1\n",
    "\n",
    "        precision = tp / (tp + fp) if tp + fp > 0 else 0\n",
    "        recall = tp / (tp + fn) if tp + fn > 0 else 0\n",
    "        f1 = 2 * precision * recall / (precision + recall) if precision + recall > 0 else 0\n",
    "\n",
    "        precisions.append(precision)\n",
    "        recalls.append(recall)\n",
    "        f1_scores.append(f1)\n",
    "\n",
    "    plt.figure(figsize=(10, 6))\n",
    "    plt.plot(thresholds, precisions, label=\"Precision\", color='blue')\n",
    "    plt.plot(thresholds, recalls, label=\"Recall\", color='green')\n",
    "    plt.plot(thresholds, f1_scores, label=\"F1 Score\", color='red')\n",
    "    plt.xlabel(\"Threshold\")\n",
    "    plt.ylabel(\"Score\")\n",
    "    plt.title(\"Classifier Performance vs Threshold\")\n",
    "    plt.legend()\n",
    "    plt.grid(True)\n",
    "    plt.tight_layout()\n",
    "    plt.show()\n",
    "\n",
    "    return thresholds, precisions, recalls, f1_scores"
   ]
  },
  {
   "cell_type": "code",
   "execution_count": 31,
   "id": "60469622",
   "metadata": {},
   "outputs": [
    {
     "data": {
      "image/png": "[encoded data removed]",
      "text/plain": [
       "<Figure size 1000x600 with 1 Axes>"
      ]
     },
     "metadata": {},
     "output_type": "display_data"
    }
   ],
   "source": [
    "thresholds, precisions, recalls, f1_scores = evaluate_threshold_curve(player_scores_per_game)"
   ]
  },
  {
   "cell_type": "code",
   "execution_count": 32,
   "id": "aee0872b",
   "metadata": {},
   "outputs": [],
   "source": [
    "with open(\"data/val_games_player_scores.pkl\", \"wb\") as f:\n",
    "    pickle.dump(player_scores_per_game, f)"
   ]
  },
  {
   "cell_type": "code",
   "execution_count": 33,
   "id": "6c668ec7",
   "metadata": {},
   "outputs": [],
   "source": [
    "def evaluate_thresholds_roc(player_scores_per_game, threshold_list):\n",
    "    score_diffs = []\n",
    "    labels = []\n",
    "\n",
    "    for scores in player_scores_per_game:\n",
    "        bot_score = scores[\"bot\"]\n",
    "        for player, human_score in scores.items():\n",
    "            if player == \"bot\":\n",
    "                continue\n",
    "            score_diffs.append(bot_score - human_score)\n",
    "            labels.append(1)\n",
    "\n",
    "            score_diffs.append(human_score - bot_score)\n",
    "            labels.append(0)\n",
    "\n",
    "    score_diffs = np.array(score_diffs)\n",
    "    labels = np.array(labels)\n",
    "\n",
    "    fpr_base, tpr_base, _ = roc_curve(labels, score_diffs)\n",
    "    roc_auc_base = auc(fpr_base, tpr_base)\n",
    "\n",
    "    precision_base, recall_base, _ = precision_recall_curve(labels, score_diffs)\n",
    "    pr_auc_base = auc(recall_base, precision_base)\n",
    "\n",
    "    baseline_precision = np.mean(labels)\n",
    "\n",
    "    plt.figure(figsize=(14, 6))\n",
    "    plt.subplot(1, 2, 1)\n",
    "    plt.plot(fpr_base, tpr_base, label=f\"Base ROC AUC = {roc_auc_base:.4f}\", color=\"black\", linestyle=\"--\")\n",
    "    plt.plot([0, 1], [0, 1], linestyle=\":\", color=\"gray\", label=\"Random Classifier (Baseline)\")\n",
    "\n",
    "    for thresh in threshold_list:\n",
    "        preds = (score_diffs >= thresh).astype(int)\n",
    "        tp = np.sum((preds == 1) & (labels == 1))\n",
    "        fp = np.sum((preds == 1) & (labels == 0))\n",
    "        fn = np.sum((preds == 0) & (labels == 1))\n",
    "        tn = np.sum((preds == 0) & (labels == 0))\n",
    "\n",
    "        fpr = fp / (fp + tn) if (fp + tn) else 0\n",
    "        tpr = tp / (tp + fn) if (tp + fn) else 0\n",
    "        plt.scatter(fpr, tpr, label=f\"Threshold {thresh:.2f}\")\n",
    "\n",
    "    plt.xlabel(\"False Positive Rate\")\n",
    "    plt.ylabel(\"True Positive Rate\")\n",
    "    plt.title(\"ROC Curve\")\n",
    "    plt.legend()\n",
    "    plt.grid(True)\n",
    "\n",
    "\n",
    "\n",
    "    plt.subplot(1, 2, 2)\n",
    "    plt.plot(recall_base, precision_base, label=f\"Base PR AUC = {pr_auc_base:.4f}\", color=\"black\", linestyle=\"--\")\n",
    "    plt.axhline(y=baseline_precision, color=\"gray\", linestyle=\":\", label=f\"Baseline Precision = {baseline_precision:.2f}\")\n",
    "\n",
    "    for thresh in threshold_list:\n",
    "        preds = (score_diffs >= thresh).astype(int)\n",
    "        tp = np.sum((preds == 1) & (labels == 1))\n",
    "        fp = np.sum((preds == 1) & (labels == 0))\n",
    "        fn = np.sum((preds == 0) & (labels == 1))\n",
    "\n",
    "        precision = tp / (tp + fp) if (tp + fp) else 0\n",
    "        recall = tp / (tp + fn) if (tp + fn) else 0\n",
    "        plt.scatter(recall, precision, label=f\"Threshold {thresh:.2f}\")\n",
    "\n",
    "    plt.xlabel(\"Recall\")\n",
    "    plt.ylabel(\"Precision\")\n",
    "    plt.title(\"Precision-Recall Curve\")\n",
    "    plt.legend()\n",
    "    plt.ylim(-0.05, 1.05)\n",
    "    plt.grid(True)\n",
    "\n",
    "    plt.tight_layout()\n",
    "    plt.show()\n",
    "\n",
    "    return {\n",
    "        \"base_roc_auc\": roc_auc_base,\n",
    "        \"base_pr_auc\": pr_auc_base,\n",
    "        \"baseline_precision\": baseline_precision\n",
    "    }\n"
   ]
  },
  {
   "cell_type": "code",
   "execution_count": 41,
   "id": "3090f576",
   "metadata": {},
   "outputs": [
    {
     "data": {
      "image/png": "[encoded data removed]",
      "text/plain": [
       "<Figure size 1400x600 with 2 Axes>"
      ]
     },
     "metadata": {},
     "output_type": "display_data"
    }
   ],
   "source": [
    "output = evaluate_thresholds_roc(player_scores_per_game, [0, 1, 2, 3, 5])"
   ]
  },
  {
   "cell_type": "code",
   "execution_count": 35,
   "id": "119ef31a",
   "metadata": {},
   "outputs": [],
   "source": [
    "with open(\"data/false_game_ids_threshold_3.pkl\", \"rb\") as f:\n",
    "    wrong_indices = pickle.load(f)\n",
    "    \n",
    "val_games = game_ids"
   ]
  },
  {
   "cell_type": "code",
   "execution_count": 36,
   "id": "185d41eb",
   "metadata": {},
   "outputs": [
    {
     "name": "stdout",
     "output_type": "stream",
     "text": [
      "4.259370314842578\n"
     ]
    }
   ],
   "source": [
    "lengths = 0\n",
    "long_wrong_games = []\n",
    "for game in wrong_indices:\n",
    "    game_messages = []\n",
    "    game_data = chat_data[game]\n",
    "    for message in game_data[\"messages\"]:\n",
    "        if message[\"userID\"] == \"GameMaster\":\n",
    "            if \"won\" in message[\"message\"] or \"surrendered\" in message[\"message\"] or \"canceled\" in message[\"message\"] or \"lost\" in message[\"message\"] or \"timed out\" in message[\"message\"] or \"disconnected\" in message[\"message\"]:\n",
    "                break\n",
    "            else:\n",
    "                continue\n",
    "        game_messages.append(message[\"message\"])\n",
    "    lengths += len(game_messages)\n",
    "    if len(game_messages) >= 10:\n",
    "        long_wrong_games.append(game)\n",
    "\n",
    "print(lengths/len(wrong_indices))"
   ]
  },
  {
   "cell_type": "code",
   "execution_count": 43,
   "id": "983fd827",
   "metadata": {},
   "outputs": [
    {
     "name": "stdout",
     "output_type": "stream",
     "text": [
      "64\n",
      "667\n"
     ]
    }
   ],
   "source": [
    "print(len(long_wrong_games))\n",
    "print(len(wrong_indices))"
   ]
  }
 ],
 "metadata": {
  "kernelspec": {
   "display_name": "python312",
   "language": "python",
   "name": "python3"
  },
  "language_info": {
   "codemirror_mode": {
    "name": "ipython",
    "version": 3
   },
   "file_extension": ".py",
   "mimetype": "text/x-python",
   "name": "python",
   "nbconvert_exporter": "python",
   "pygments_lexer": "ipython3",
   "version": "3.12.5"
  }
 },
 "nbformat": 4,
 "nbformat_minor": 5
}
