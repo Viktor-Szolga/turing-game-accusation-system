{
 "cells": [
  {
   "cell_type": "code",
   "execution_count": 26,
   "id": "d4a7d842",
   "metadata": {},
   "outputs": [],
   "source": [
    "import torch\n",
    "import numpy as np\n",
    "import pickle\n",
    "from openai import OpenAI\n",
    "import random\n",
    "from tqdm import tqdm\n",
    "import matplotlib.pyplot as plt\n",
    "from collections import defaultdict\n",
    "from sklearn.metrics import roc_curve, precision_recall_curve, auc\n",
    "import matplotlib.pyplot as plt\n",
    "import numpy as np\n",
    "import scipy"
   ]
  },
  {
   "cell_type": "code",
   "execution_count": 27,
   "id": "ae253e87",
   "metadata": {},
   "outputs": [],
   "source": [
    "torch.manual_seed(42)\n",
    "np.random.seed(42)\n",
    "random.seed(42)"
   ]
  },
  {
   "cell_type": "code",
   "execution_count": 28,
   "id": "e357284b",
   "metadata": {},
   "outputs": [],
   "source": [
    "with open(\"data/190325_data.pkl\", \"rb\") as f:\n",
    "    train_chat_data = pickle.load(f)\n",
    "    \n",
    "# Remove service chat\n",
    "del train_chat_data[-1000]"
   ]
  },
  {
   "cell_type": "code",
   "execution_count": 29,
   "id": "c6258f88",
   "metadata": {},
   "outputs": [],
   "source": [
    "with open(\"data/100925_data.pkl\", \"rb\") as f:\n",
    "    chat_data = pickle.load(f)\n",
    "    \n",
    "# Remove service chat\n",
    "del chat_data[-1000]"
   ]
  },
  {
   "cell_type": "code",
   "execution_count": 30,
   "id": "c7c9e8af",
   "metadata": {},
   "outputs": [
    {
     "name": "stdout",
     "output_type": "stream",
     "text": [
      "9631\n",
      "9631\n"
     ]
    }
   ],
   "source": [
    "messages = []\n",
    "labels = []\n",
    "game_ids = []\n",
    "user_ids = []\n",
    "languages = []\n",
    "for game_id, game_data in chat_data.items():\n",
    "    if game_id in train_chat_data.keys():\n",
    "        continue\n",
    "    for message in game_data[\"messages\"]:\n",
    "        if message[\"userID\"] == \"GameMaster\":\n",
    "            if \"won\" in message[\"message\"] or \"surrendered\" in message[\"message\"] or \"canceled\" in message[\"message\"] or \"lost\" in message[\"message\"] or \"timed out\" in message[\"message\"] or \"disconnected\" in message[\"message\"]:\n",
    "                break\n",
    "            else:\n",
    "                continue\n",
    "        messages.append(message[\"message\"])\n",
    "        labels.append([int(not message[\"botID\"]), message[\"botID\"]])\n",
    "        game_ids.append(message[\"gameID\"])\n",
    "        user_ids.append(message[\"userID\"])\n",
    "        if game_data[\"language\"] is None:\n",
    "            languages.append(\"en\")\n",
    "        else:\n",
    "            languages.append(game_data[\"language\"])\n",
    "        \n",
    "print(len(messages))\n",
    "print(len(labels))"
   ]
  },
  {
   "cell_type": "code",
   "execution_count": 31,
   "id": "1a473d88",
   "metadata": {},
   "outputs": [],
   "source": [
    "class NaiveBayesClassifier:\n",
    "    def __init__(self, path_to_state_dict):\n",
    "        class MessageClassifier(torch.nn.Module):\n",
    "            def __init__(self, input_size, hidden_sizes, output_size, dropout=0.75):\n",
    "                super().__init__()\n",
    "                self.activation = torch.nn.ReLU()\n",
    "                layers = []\n",
    "                current_size = input_size\n",
    "                for hidden_size in hidden_sizes:\n",
    "                    layers.append(torch.nn.Linear(current_size, hidden_size))\n",
    "                    layers.append(torch.nn.BatchNorm1d(hidden_size))\n",
    "                    layers.append(torch.nn.ReLU())\n",
    "                    layers.append(torch.nn.Dropout(dropout))\n",
    "                    current_size = hidden_size\n",
    "                layers.append(torch.nn.Linear(current_size, output_size))\n",
    "        \n",
    "                self.model = torch.nn.Sequential(*layers)\n",
    "        \n",
    "            def forward(self, x):\n",
    "                return self.model(x)\n",
    "\n",
    "        \n",
    "        self.device = \"cuda\" if torch.cuda.is_available() else \"cpu\"\n",
    "        self.client = OpenAI(\n",
    "                            api_key=\"EMPTY\",\n",
    "                            base_url=\"http://localhost:8000/v1\"\n",
    "                        )\n",
    "        self.embedding_model = \"intfloat/multilingual-e5-large-instruct\"\n",
    "\n",
    "        self.classifier = MessageClassifier(1024, [48, 24], 2, dropout=0.85)\n",
    "        self.classifier.to(self.device)\n",
    "        self.classifier.load_state_dict(torch.load(path_to_state_dict, weights_only=True))\n",
    "        self.classifier.eval()\n",
    "\n",
    "    def predict(self, message: str):\n",
    "        # Classifies a message as human (negative score) or bot (positive score).\n",
    "        embedding = torch.tensor(self.client.embeddings.create(input = [message], model=self.embedding_model).data[0].embedding)\n",
    "        pred = self.classifier(embedding.unsqueeze(dim=0)).squeeze()\n",
    "        return (pred[1]-pred[0]).item()\n",
    "            "
   ]
  },
  {
   "cell_type": "code",
   "execution_count": 32,
   "id": "9ef36359",
   "metadata": {},
   "outputs": [],
   "source": [
    "classifier = NaiveBayesClassifier(\"models/run082.pth\")"
   ]
  },
  {
   "cell_type": "code",
   "execution_count": 33,
   "id": "7f20909f",
   "metadata": {},
   "outputs": [
    {
     "data": {
      "text/plain": [
       "-2.65248703956604"
      ]
     },
     "execution_count": 33,
     "metadata": {},
     "output_type": "execute_result"
    }
   ],
   "source": [
    "classifier.predict(\"test\")\n",
    "classifier.predict(\"bot\")\n",
    "classifier.predict(\"hi\")\n",
    "classifier.predict(\"hey guys how are you\")"
   ]
  },
  {
   "cell_type": "code",
   "execution_count": 34,
   "id": "4b6a5250",
   "metadata": {},
   "outputs": [],
   "source": [
    "messages_with_i_dont_know= []\n",
    "user_ids_with_i_dont_know = []\n",
    "messages_with_idk = []\n",
    "user_ids_with_idk = []\n",
    "for message, user_id in zip(messages, user_ids):\n",
    "    if \"i dont know\" in message:\n",
    "        messages_with_i_dont_know.append(message)\n",
    "        user_ids_with_i_dont_know.append(user_id)\n",
    "    \n",
    "    if \"idk\" in message:\n",
    "        messages_with_idk.append(message)\n",
    "        user_ids_with_idk.append(user_id)"
   ]
  },
  {
   "cell_type": "code",
   "execution_count": 35,
   "id": "efde7007",
   "metadata": {},
   "outputs": [
    {
     "name": "stdout",
     "output_type": "stream",
     "text": [
      "idk, cant just guess\n",
      "1.6309330463409424\n",
      "After changing\n",
      "i don't know, cant just guess\n",
      "1.3250558376312256\n",
      "--------------------------------------------------\n",
      "idk bro\n",
      "-1.5366469621658325\n",
      "After changing\n",
      "i don't know bro\n",
      "-0.7560179233551025\n",
      "--------------------------------------------------\n",
      "idk\n",
      "-1.837700605392456\n",
      "After changing\n",
      "i don't know\n",
      "-2.0457558631896973\n",
      "--------------------------------------------------\n"
     ]
    }
   ],
   "source": [
    "for user_id, message in zip(user_ids_with_idk[:3], messages_with_idk[:3]):\n",
    "    print(message)\n",
    "    print(classifier.predict(message))\n",
    "    print(\"After changing\")\n",
    "    print(message.replace(\"idk\", \"i don't know\"))\n",
    "    print(classifier.predict(message.replace(\"idk\", \"i don't know\")))\n",
    "    print(\"-\" * 50)"
   ]
  },
  {
   "cell_type": "code",
   "execution_count": 36,
   "id": "60efd433",
   "metadata": {},
   "outputs": [],
   "source": [
    "messages_with_how_about_you= []\n",
    "user_ids_with_how_about_you = []\n",
    "messages_with_hbu = []\n",
    "user_ids_with_hbu = []\n",
    "messages_with_hi = []\n",
    "\n",
    "message_with_bot = []\n",
    "user_ids_with_bot = []\n",
    "for message, user_id in zip(messages, user_ids):\n",
    "    if \"how about you\" in message:\n",
    "        messages_with_how_about_you.append(message)\n",
    "        user_ids_with_how_about_you.append(user_id)\n",
    "    \n",
    "    if \"hbu\" in message:\n",
    "        messages_with_hbu.append(message)\n",
    "        user_ids_with_hbu.append(user_id)\n",
    "    if \"bot\" in message:\n",
    "        message_with_bot.append(message)\n",
    "        user_ids_with_bot.append(user_id)\n",
    "    if \"hi\" in message:\n",
    "        messages_with_hi.append(message)"
   ]
  },
  {
   "cell_type": "code",
   "execution_count": 37,
   "id": "5ee807e3",
   "metadata": {},
   "outputs": [
    {
     "name": "stdout",
     "output_type": "stream",
     "text": [
      "-1.2802646160125732\n",
      "-3.184713363647461\n"
     ]
    }
   ],
   "source": [
    "print(classifier.predict(\"how about you\"))\n",
    "print(classifier.predict(\"hbu\"))"
   ]
  },
  {
   "cell_type": "code",
   "execution_count": 38,
   "id": "853a2f6c",
   "metadata": {},
   "outputs": [
    {
     "name": "stdout",
     "output_type": "stream",
     "text": [
      "how about you, Red?\n",
      "0.13095107674598694\n",
      "After changing\n",
      "hbu, Red?\n",
      "0.3028487265110016\n",
      "--------------------------------------------------\n",
      "I enjoy action movies how about you\n",
      "4.188089370727539\n",
      "After changing\n",
      "I enjoy action movies hbu\n",
      "1.6950793266296387\n",
      "--------------------------------------------------\n",
      "I like espresso mostly, how about you?\n",
      "2.2999796867370605\n",
      "After changing\n",
      "I like espresso mostly, hbu?\n",
      "2.514404773712158\n",
      "--------------------------------------------------\n"
     ]
    }
   ],
   "source": [
    "for user_id, message in zip(user_ids_with_how_about_you[:3], messages_with_how_about_you[:3]):\n",
    "    print(message)\n",
    "    print(classifier.predict(message))\n",
    "    print(\"After changing\")\n",
    "    print(message.replace(\"how about you\", \"hbu\"))\n",
    "    print(classifier.predict(message.replace(\"how about you\", \"hbu\")))\n",
    "    print(\"-\" * 50)"
   ]
  },
  {
   "cell_type": "code",
   "execution_count": 39,
   "id": "16832e13",
   "metadata": {},
   "outputs": [
    {
     "name": "stdout",
     "output_type": "stream",
     "text": [
      "red hbu\n",
      "-2.7308268547058105\n",
      "After changing\n",
      "red how about you\n",
      "-2.0165741443634033\n",
      "--------------------------------------------------\n",
      "its lexie ditchburn\n",
      "-1.5671110153198242\n",
      "After changing\n",
      "its lexie ditchow about yourn\n",
      "-1.7464357614517212\n",
      "--------------------------------------------------\n",
      "good hbu\n",
      "-2.089043140411377\n",
      "After changing\n",
      "good how about you\n",
      "-1.4912000894546509\n",
      "--------------------------------------------------\n",
      "hbu?\n",
      "-1.5022770166397095\n",
      "After changing\n",
      "how about you?\n",
      "-1.3939704895019531\n",
      "--------------------------------------------------\n"
     ]
    }
   ],
   "source": [
    "for user_id, message in zip(user_ids_with_hbu[:4], messages_with_hbu[:4]):\n",
    "    print(message)\n",
    "    print(classifier.predict(message))\n",
    "    print(\"After changing\")\n",
    "    print(message.replace(\"hbu\", \"how about you\"))\n",
    "    print(classifier.predict(message.replace(\"hbu\", \"how about you\")))\n",
    "    print(\"-\" * 50)"
   ]
  },
  {
   "cell_type": "code",
   "execution_count": 40,
   "id": "fed3d628",
   "metadata": {},
   "outputs": [
    {
     "name": "stdout",
     "output_type": "stream",
     "text": [
      "Who is the bot?\n",
      "-3.9564385414123535\n",
      "Hi Blue. Would you agree that yellow os the bot?\n",
      "-1.611377239227295\n",
      "So let's play the game! Who is the bot?\n",
      "-2.1624462604522705\n",
      "so you are human or bot\n",
      "-3.2869205474853516\n",
      "are you was on human or bot\n",
      "-3.148477554321289\n",
      " i dont mean somthing but there was a same name and same country on chat or bot \n",
      "-0.303500771522522\n",
      "What do you both work? I already told you my work, so please tell me yours.\n",
      "-1.5244137048721313\n",
      "ok both of you convince me you are human\n",
      "-2.441359519958496\n",
      "na dann bist Du @Purple ein KI Chatbot?\n",
      "-3.7053639888763428\n",
      "cool, hey bot, what is your opinion about that\n",
      "-1.149780035018921\n",
      "Messages with 'bot' got an average score of -2.151104892840226\n"
     ]
    }
   ],
   "source": [
    "for user_id, message in zip(user_ids_with_bot[:10], message_with_bot[:10]):\n",
    "    print(message)\n",
    "    print(classifier.predict(message))\n",
    "    #print(\"After changing\")\n",
    "    #print(message.replace(\"how about you\", \"hbu\"))\n",
    "    #print(classifier.predict(message.replace(\"how about you\", \"hbu\")))\n",
    "\n",
    "total = 0\n",
    "for message in message_with_bot:\n",
    "    total += classifier.predict(message)\n",
    "print(f\"Messages with 'bot' got an average score of {total/len(message_with_bot)}\")"
   ]
  },
  {
   "cell_type": "code",
   "execution_count": 41,
   "id": "c463b911",
   "metadata": {},
   "outputs": [
    {
     "name": "stdout",
     "output_type": "stream",
     "text": [
      "yeah im here\n",
      "-0.3300672769546509\n",
      "After changing\n",
      "yeah im here bot\n",
      "-1.8590456247329712\n",
      "--------------------------------------------------\n",
      "fajnie tam\n",
      "-1.2335546016693115\n",
      "After changing\n",
      "fajnie tam bot\n",
      "-1.6671712398529053\n",
      "--------------------------------------------------\n",
      "what do you like to do\n",
      "-0.1263180673122406\n",
      "After changing\n",
      "what do you like to do bot\n",
      "-1.7560027837753296\n",
      "--------------------------------------------------\n",
      "ok, weiter gehts\n",
      "0.5398737192153931\n",
      "After changing\n",
      "ok, weiter gehts bot\n",
      "-1.7745866775512695\n",
      "--------------------------------------------------\n",
      "ach so, dann vergiss es.\n",
      "-1.5488241910934448\n",
      "After changing\n",
      "ach so, dann vergiss es. bot\n",
      "-1.769914150238037\n",
      "--------------------------------------------------\n"
     ]
    }
   ],
   "source": [
    "random.seed(42)\n",
    "i = 0\n",
    "while i < 5:\n",
    "    idx = random.randint(0, len(messages)-1)\n",
    "    message = messages[idx]\n",
    "    user_id = user_ids[idx]\n",
    "    if user_id != '0':\n",
    "        continue\n",
    "    print(message)\n",
    "    print(classifier.predict(message))\n",
    "    print(\"After changing\")\n",
    "    message = message + \" bot\"\n",
    "    print(message)\n",
    "    print(classifier.predict(message))\n",
    "    print(\"-\" * 50)\n",
    "    i += 1"
   ]
  },
  {
   "cell_type": "code",
   "execution_count": 42,
   "id": "732d2cab",
   "metadata": {},
   "outputs": [
    {
     "name": "stdout",
     "output_type": "stream",
     "text": [
      "cool, hey bot, what is your opinion about that\n",
      "209\n"
     ]
    }
   ],
   "source": [
    "print(message_with_bot[9])\n",
    "print(len(message_with_bot))"
   ]
  },
  {
   "cell_type": "code",
   "execution_count": 43,
   "id": "c572beff",
   "metadata": {},
   "outputs": [
    {
     "name": "stdout",
     "output_type": "stream",
     "text": [
      "what about you?\n",
      "-1.4504497051239014\n",
      "After changing\n",
      "what about oyu?\n",
      "-2.0356786251068115\n",
      "--------------------------------------------------\n",
      "wut r u talkin bout?\n",
      "1.3139967918395996\n",
      "After changing\n",
      "wut r u talkin bout?\n",
      "1.3139967918395996\n",
      "--------------------------------------------------\n",
      "lol wut did i say?\n",
      "0.682368278503418\n",
      "After changing\n",
      "lol uwt did i say?\n",
      "0.7300033569335938\n",
      "--------------------------------------------------\n",
      "lol wut?\n",
      "0.3462805449962616\n",
      "After changing\n",
      "llo wut?\n",
      "-1.8953317403793335\n",
      "--------------------------------------------------\n"
     ]
    }
   ],
   "source": [
    "import random, string\n",
    "random.seed(42)\n",
    "\n",
    "def add_typo(word):\n",
    "    \"\"\"Add a small typo by swapping or deleting one letter.\"\"\"\n",
    "    if len(word) < 2:\n",
    "        return word\n",
    "    trail = ''\n",
    "    while word and word[-1] in string.punctuation:\n",
    "        trail = word[-1] + trail\n",
    "        word = word[:-1]\n",
    "    if len(word) < 2:\n",
    "        return word + trail\n",
    "\n",
    "    op = random.choice(['swap', 'delete'])\n",
    "    chars = list(word)\n",
    "    i = random.randrange(len(chars) - 1)\n",
    "    if op == 'swap':\n",
    "        chars[i], chars[i + 1] = chars[i + 1], chars[i]\n",
    "    else:\n",
    "        chars.pop(i)\n",
    "    return ''.join(chars) + trail\n",
    "\n",
    "def typo_variant(text):\n",
    "    \"\"\"Return text with one random word slightly corrupted.\"\"\"\n",
    "    words = text.split()\n",
    "    idx = random.randrange(len(words))\n",
    "    words[idx] = add_typo(words[idx])\n",
    "    return ' '.join(words)\n",
    "\n",
    "n = 0\n",
    "for idx in range(len(messages)-1, 0, -1):\n",
    "    if user_ids[idx] == '0':\n",
    "        msg = messages[idx]\n",
    "        if len(msg.split()) > 5 or msg.split()[0].lower().strip(\",\") == \"hey\" or msg[-1] != \"?\":\n",
    "            continue\n",
    "\n",
    "        typo_msg = typo_variant(msg)\n",
    "        print(msg)\n",
    "        print(classifier.predict(msg))\n",
    "        print(\"After changing\")\n",
    "        print(typo_msg)\n",
    "        print(classifier.predict(typo_msg))\n",
    "        print(\"-\" * 50)\n",
    "\n",
    "        n += 1\n",
    "    if n == 4:\n",
    "        break\n"
   ]
  },
  {
   "cell_type": "code",
   "execution_count": 44,
   "id": "24844b64",
   "metadata": {},
   "outputs": [
    {
     "name": "stdout",
     "output_type": "stream",
     "text": [
      "what about you?\n",
      "-1.4504497051239014\n",
      "After changing\n",
      "hi what about you?\n",
      "-1.3991026878356934\n",
      "--------------------------------------------------\n",
      "wut r u talkin bout?\n",
      "1.3139967918395996\n",
      "After changing\n",
      "hi wut r u talkin bout?\n",
      "0.30792704224586487\n",
      "--------------------------------------------------\n",
      "lol wut did i say?\n",
      "0.682368278503418\n",
      "After changing\n",
      "hi lol wut did i say?\n",
      "0.3400662839412689\n",
      "--------------------------------------------------\n",
      "lol wut?\n",
      "0.3462805449962616\n",
      "After changing\n",
      "hi lol wut?\n",
      "-0.34390193223953247\n",
      "--------------------------------------------------\n"
     ]
    }
   ],
   "source": [
    "random.seed(42)\n",
    "n = 0\n",
    "for idx in range(len(messages)-1, 0, -1):\n",
    "    if user_ids[idx] == '0':\n",
    "        if len(messages[idx].split(\" \")) > 5:\n",
    "            continue\n",
    "        if messages[idx].split(\" \")[0] == \"hey\" or messages[idx].split(\" \")[0] == \"hey,\":\n",
    "            continue\n",
    "        if messages[idx][-1] != \"?\":\n",
    "            continue\n",
    "        print(messages[idx])\n",
    "        print(classifier.predict(messages[idx]))\n",
    "        print(\"After changing\")\n",
    "        print(f\"hi {messages[idx]}\")\n",
    "        print(classifier.predict(f\"hi {messages[idx]}\"))\n",
    "        print(\"-\" * 50)\n",
    "        n += 1\n",
    "    if n == 4:\n",
    "        break"
   ]
  },
  {
   "cell_type": "code",
   "execution_count": 45,
   "id": "28a1f8ac",
   "metadata": {},
   "outputs": [],
   "source": [
    "\n",
    "def analyze_perturbation(orig_scores, after_scores):\n",
    "    orig_scores = np.array(orig_scores)\n",
    "    after_scores = np.array(after_scores)\n",
    "\n",
    "    deltas = after_scores - orig_scores\n",
    "    mean_delta = np.mean(deltas)\n",
    "    std_delta = np.std(deltas)\n",
    "\n",
    "    return mean_delta, std_delta, deltas\n",
    "\n",
    "def precision_confidence_interval(tp: int, fp: int, confidence: float = 0.95):\n",
    "    total = tp + fp\n",
    "    if total == 0:\n",
    "        return (0.0, 0.0)\n",
    "    \n",
    "    p = tp / total\n",
    "    z = scipy.stats.norm.ppf(1 - (1 - confidence) / 2)\n",
    "    \n",
    "    denominator = 1 + z**2 / total\n",
    "    center = (p + z**2 / (2 * total)) / denominator\n",
    "    margin = z * np.sqrt(p * (1 - p) / total + z**2 / (4 * total**2)) / denominator\n",
    "    \n",
    "    lower = max(0.0, center - margin)\n",
    "    upper = min(1.0, center + margin)\n",
    "    \n",
    "    return (float(lower), float(upper))"
   ]
  },
  {
   "cell_type": "code",
   "execution_count": 46,
   "id": "55084bac",
   "metadata": {},
   "outputs": [
    {
     "name": "stdout",
     "output_type": "stream",
     "text": [
      "Effect of replacing 'idk' with 'i don't know'\n",
      "Mean delta: 0.33703716290302765\n",
      "Std delta 0.6134400135088173\n",
      "Sample size: 39\n"
     ]
    }
   ],
   "source": [
    "before = []\n",
    "after = []\n",
    "n = 0\n",
    "for message in messages_with_idk:\n",
    "    before.append(classifier.predict(message))\n",
    "    after.append(classifier.predict(message.replace(\"idk\", \"i don't know\")))\n",
    "    n += 1\n",
    "mean_delta, std_delta, deltas = analyze_perturbation(before, after)\n",
    "print(\"Effect of replacing 'idk' with 'i don't know'\")\n",
    "print(f\"Mean delta: {mean_delta}\")\n",
    "print(f\"Std delta {std_delta}\")\n",
    "print(f\"Sample size: {n}\")"
   ]
  },
  {
   "cell_type": "code",
   "execution_count": 47,
   "id": "abd04069",
   "metadata": {},
   "outputs": [
    {
     "name": "stdout",
     "output_type": "stream",
     "text": [
      "Effect of replacing 'hbu' with 'how about you'\n",
      "Mean delta: 0.6402702232201894\n",
      "Std delta 0.8826817166020797\n",
      "Sample size: 6\n"
     ]
    }
   ],
   "source": [
    "before = []\n",
    "after = []\n",
    "n = 0\n",
    "for message in messages_with_hbu:\n",
    "    before.append(classifier.predict(message))\n",
    "    after.append(classifier.predict(message.replace(\"hbu\", \"how about you\")))\n",
    "    n += 1\n",
    "mean_delta, std_delta, deltas = analyze_perturbation(before, after)\n",
    "print(\"Effect of replacing 'hbu' with 'how about you'\")\n",
    "print(f\"Mean delta: {mean_delta}\")\n",
    "print(f\"Std delta {std_delta}\")\n",
    "print(f\"Sample size: {n}\")"
   ]
  },
  {
   "cell_type": "code",
   "execution_count": 48,
   "id": "242bef0d",
   "metadata": {},
   "outputs": [
    {
     "name": "stdout",
     "output_type": "stream",
     "text": [
      "Effect of adding bot\n",
      "Mean delta: -0.8808219350874424\n",
      "Std delta 0.9443779372360461\n",
      "Sample size: 200\n"
     ]
    }
   ],
   "source": [
    "before = []\n",
    "after = []\n",
    "n = 0\n",
    "random.seed(42)\n",
    "\n",
    "for message in random.sample(messages, len(messages)):\n",
    "    if \"bot\" in message:\n",
    "        continue\n",
    "    before.append(classifier.predict(message))\n",
    "    after.append(classifier.predict(message + \" bot\"))\n",
    "    n += 1\n",
    "    if n == 200:\n",
    "        break\n",
    "mean_delta, std_delta, deltas = analyze_perturbation(before, after)\n",
    "print(\"Effect of adding bot\")\n",
    "print(f\"Mean delta: {mean_delta}\")\n",
    "print(f\"Std delta {std_delta}\")\n",
    "print(f\"Sample size: {n}\")"
   ]
  },
  {
   "cell_type": "code",
   "execution_count": 49,
   "id": "4d76a4d4",
   "metadata": {},
   "outputs": [
    {
     "name": "stdout",
     "output_type": "stream",
     "text": [
      "Effect of adding hi\n",
      "Mean delta: -0.07002246990799904\n",
      "Std delta 0.6301389150046988\n",
      "Sample size: 200\n"
     ]
    }
   ],
   "source": [
    "before = []\n",
    "after = []\n",
    "n = 0\n",
    "random.seed(42)\n",
    "\n",
    "for message in random.sample(messages, len(messages)):\n",
    "    if \"hi\" in message:\n",
    "        continue\n",
    "    before.append(classifier.predict(message))\n",
    "    after.append(classifier.predict(\"hi \" + message))\n",
    "    n += 1\n",
    "    if n == 200:\n",
    "        break\n",
    "mean_delta, std_delta, deltas = analyze_perturbation(before, after)\n",
    "print(\"Effect of adding hi\")\n",
    "print(f\"Mean delta: {mean_delta}\")\n",
    "print(f\"Std delta {std_delta}\")\n",
    "print(f\"Sample size: {n}\")"
   ]
  },
  {
   "cell_type": "code",
   "execution_count": 50,
   "id": "0f558463",
   "metadata": {},
   "outputs": [
    {
     "name": "stdout",
     "output_type": "stream",
     "text": [
      "Effect of adding a typo\n",
      "Mean delta: -0.572405967861414\n",
      "Std delta 0.9490764807429003\n",
      "Sample size: 200\n"
     ]
    }
   ],
   "source": [
    "random.seed(42)\n",
    "before = []\n",
    "after = []\n",
    "n = 0\n",
    "for idx in range(len(messages)-1, 0, -1):\n",
    "    if user_ids[idx] == '0':\n",
    "        msg = messages[idx]\n",
    "        typo_msg = typo_variant(msg)\n",
    "        before.append(classifier.predict(msg))\n",
    "        after.append(classifier.predict(typo_msg))\n",
    "\n",
    "        n += 1\n",
    "        if n == 200:\n",
    "            break\n",
    "\n",
    "mean_delta, std_delta, deltas = analyze_perturbation(before, after)\n",
    "print(\"Effect of adding a typo\")\n",
    "print(f\"Mean delta: {mean_delta}\")\n",
    "print(f\"Std delta {std_delta}\")\n",
    "print(f\"Sample size: {n}\")"
   ]
  },
  {
   "cell_type": "code",
   "execution_count": 51,
   "id": "b0a668e4",
   "metadata": {},
   "outputs": [],
   "source": [
    "def get_player_scores(classifier, threshold=1):\n",
    "    with open(\"data/190325_data.pkl\", \"rb\") as f:\n",
    "        chat_data = pickle.load(f)\n",
    "\n",
    "    with open(\"data/100925_data.pkl\", \"rb\") as f:\n",
    "        test_data = pickle.load(f)\n",
    "\n",
    "    evaluated_ids = []\n",
    "    player_scores_per_game = []\n",
    "    for game_id in tqdm(test_data.keys(), desc=\"Evaluating\", total=len(test_data.keys())):\n",
    "        if game_id in chat_data.keys():\n",
    "            continue\n",
    "        game = test_data[game_id]\n",
    "        evaluated_ids.append(game_id)\n",
    "        player_scores = defaultdict(float)\n",
    "        \n",
    "        for message in game[\"messages\"]:\n",
    "            if message[\"userID\"] == \"GameMaster\":\n",
    "                if \"won\" in message[\"message\"] or \"surrendered\" in message[\"message\"] or \"canceled\" in message[\"message\"] or \"lost\" in message[\"message\"] or \"timed out\" in message[\"message\"] or \"disconnected\" in message[\"message\"]:\n",
    "                    break\n",
    "                else:\n",
    "                    continue\n",
    "            else:\n",
    "                if message[\"botID\"]:\n",
    "                    player_scores[\"bot\"] += classifier.predict(message[\"message\"])\n",
    "                else:\n",
    "                    player_scores[message[\"userID\"]] += classifier.predict(message[\"message\"])        \n",
    "\n",
    "        if \"bot\" not in player_scores.keys():\n",
    "            player_scores[\"bot\"] = 0\n",
    "        while len(player_scores.keys()) < 3:\n",
    "            player_scores[f\"simulated_player_{3-len(player_scores.keys())}\"] = 0\n",
    "        \n",
    "        player_scores_per_game.append(player_scores)\n",
    "    return player_scores_per_game, evaluated_ids"
   ]
  },
  {
   "cell_type": "code",
   "execution_count": 52,
   "id": "6fe0ba6f",
   "metadata": {},
   "outputs": [],
   "source": [
    "def evaluate_on_old_games(player_scores_per_game, threshold=1):\n",
    "    overall_TP = 0\n",
    "    overall_FP = 0\n",
    "    overall_false_game_ids = []\n",
    "    overall_FN = 0\n",
    "\n",
    "    seen_users_TP = 0\n",
    "    seen_users_FP = 0\n",
    "    seen_users_false_game_ids = []\n",
    "    seen_users_FN = 0\n",
    "    \n",
    "    new_users_TP = 0\n",
    "    new_users_FP = 0\n",
    "    new_users_false_game_ids = []\n",
    "    new_users_FN = 0\n",
    "\n",
    "\n",
    "    with open(\"data/corresponding_game_ids.pkl\", \"rb\") as f:\n",
    "        game_ids = pickle.load(f)\n",
    "    \n",
    "    with open(\"data/users_in_train.pkl\", \"rb\") as f:\n",
    "        train_users = pickle.load(f)\n",
    "        \n",
    "    with open(\"data/users_in_val.pkl\", \"rb\") as f:\n",
    "        val_users = pickle.load(f)\n",
    "\n",
    "    seen_users = train_users | val_users\n",
    "\n",
    "    for game_scores, game_id in zip(player_scores_per_game, game_ids):\n",
    "\n",
    "        colors = list(game_scores.keys())\n",
    "        for player in colors:\n",
    "            if player == \"bot\":\n",
    "                continue\n",
    "\n",
    "            bot_score = game_scores[\"bot\"]\n",
    "            human_score = game_scores[player]\n",
    "\n",
    "            if bot_score - human_score > threshold:\n",
    "                # Classifier would accuse the bot\n",
    "                overall_TP += 1\n",
    "                if player in seen_users:\n",
    "                    seen_users_TP += 1\n",
    "                else:\n",
    "                    new_users_TP += 1\n",
    "            elif human_score - bot_score > threshold:\n",
    "                # Classifier would accuse a human\n",
    "                overall_FP += 1\n",
    "                if player in seen_users:\n",
    "                    seen_users_FP += 1\n",
    "                    seen_users_false_game_ids.append(game_id)\n",
    "                else:\n",
    "                    new_users_FP += 1\n",
    "                    new_users_false_game_ids.append(game_id)\n",
    "                overall_false_game_ids.append(game_id)\n",
    "            else:\n",
    "                # No accusation\n",
    "                overall_FN += 1\n",
    "                if player in seen_users:\n",
    "                    seen_users_FN += 1\n",
    "                    seen_users_false_game_ids.append(game_id)\n",
    "                else:\n",
    "                    new_users_FN += 1\n",
    "                    new_users_false_game_ids.append(game_id)\n",
    "                overall_false_game_ids.append(game_id)\n",
    "    \n",
    "    data = {\n",
    "        \"overall\": {\n",
    "            \"TP\": overall_TP,\n",
    "            \"FP\": overall_FP,\n",
    "            \"FN\": overall_FN,\n",
    "            \"ids\": overall_false_game_ids\n",
    "        },\n",
    "        \"seen\": {\n",
    "            \"TP\": seen_users_TP,\n",
    "            \"FP\": seen_users_FP,\n",
    "            \"FN\": seen_users_FN,\n",
    "            \"ids\": seen_users_false_game_ids\n",
    "        },\n",
    "        \"new\": {\n",
    "            \"TP\": new_users_TP,\n",
    "            \"FP\": new_users_FP,\n",
    "            \"FN\": new_users_FN,\n",
    "            \"ids\": new_users_false_game_ids\n",
    "        },\n",
    "    }\n",
    "    return data"
   ]
  },
  {
   "cell_type": "code",
   "execution_count": 53,
   "id": "d88271eb",
   "metadata": {},
   "outputs": [],
   "source": [
    "#player_scores_per_game, game_ids = get_player_scores(classifier)\n",
    "#with open(\"data/precomputed_player_scores.pkl\", \"wb\") as f:\n",
    "#    pickle.dump(player_scores_per_game, f)\n",
    "#with open(\"data/corresponding_game_ids.pkl\", \"wb\") as f:\n",
    "#    pickle.dump(game_ids, f)\n",
    "\n",
    "with open(\"data/precomputed_player_scores.pkl\", \"rb\") as f:\n",
    "    player_scores_per_game = pickle.load(f)\n",
    "with open(\"data/corresponding_game_ids.pkl\", \"rb\") as f:\n",
    "    game_ids = pickle.load(f)"
   ]
  },
  {
   "cell_type": "code",
   "execution_count": 54,
   "id": "f74c6d86",
   "metadata": {},
   "outputs": [
    {
     "name": "stdout",
     "output_type": "stream",
     "text": [
      "Evaluated 861 games\n"
     ]
    }
   ],
   "source": [
    "print(f\"Evaluated {len(game_ids)} games\")"
   ]
  },
  {
   "cell_type": "code",
   "execution_count": 55,
   "id": "3fe5c7c3",
   "metadata": {},
   "outputs": [
    {
     "name": "stdout",
     "output_type": "stream",
     "text": [
      "Scores on all users regardless of if they have been seen or not using threshold 1\n",
      "True Positives (TP):          1200\n",
      "False Positives (FP):         124\n",
      "False Negatives (FN):         398\n",
      "\n",
      "Precision:                    0.9063\n",
      "Recall (TPR):                 0.7509\n",
      "F1 Score:                     0.8214\n",
      "False Discovery Rate (FDR):   0.0937\n",
      "Miss Rate (FNR):              0.2491\n",
      "Precision confidence interval: (0.8894541189239938, 0.9208835858164771)\n"
     ]
    }
   ],
   "source": [
    "data = evaluate_on_old_games(player_scores_per_game, threshold=1)\n",
    "overall_data = data[\"overall\"]\n",
    "tp = overall_data[\"TP\"]\n",
    "fp = overall_data[\"FP\"]\n",
    "fn = overall_data[\"FN\"]\n",
    "precision = tp / (tp + fp) if (tp + fp) > 0 else 0.0\n",
    "recall = tp / (tp + fn) if (tp + fn) > 0 else 0.0\n",
    "f1_score = 2 * precision * recall / (precision + recall) if (precision + recall) > 0 else 0.0\n",
    "false_discovery_rate = fp / (tp + fp) if (tp + fp) > 0 else 0.0\n",
    "miss_rate = fn / (tp + fn) if (tp + fn) > 0 else 0.0\n",
    "print(f\"Scores on all users regardless of if they have been seen or not using threshold 1\")\n",
    "print(f\"True Positives (TP):          {tp}\")\n",
    "print(f\"False Positives (FP):         {fp}\")\n",
    "print(f\"False Negatives (FN):         {fn}\")\n",
    "print()\n",
    "print(f\"Precision:                    {precision:.4f}\")\n",
    "print(f\"Recall (TPR):                 {recall:.4f}\")\n",
    "print(f\"F1 Score:                     {f1_score:.4f}\")\n",
    "print(f\"False Discovery Rate (FDR):   {false_discovery_rate:.4f}\")\n",
    "print(f\"Miss Rate (FNR):              {miss_rate:.4f}\")\n",
    "print(f\"Precision confidence interval: {precision_confidence_interval(tp=tp, fp=fp)}\")"
   ]
  },
  {
   "cell_type": "code",
   "execution_count": 56,
   "id": "8ec51c66",
   "metadata": {},
   "outputs": [
    {
     "name": "stdout",
     "output_type": "stream",
     "text": [
      "Scores on users in the train or validation set using threshold 1\n",
      "True Positives (TP):          56\n",
      "False Positives (FP):         1\n",
      "False Negatives (FN):         0\n",
      "\n",
      "Precision:                    0.9825\n",
      "Recall (TPR):                 1.0000\n",
      "F1 Score:                     0.9912\n",
      "False Discovery Rate (FDR):   0.0175\n",
      "Miss Rate (FNR):              0.0000\n",
      "Precision confidence interval: (0.9070925082143229, 0.9968963353485918)\n"
     ]
    }
   ],
   "source": [
    "seen_data = data[\"seen\"]\n",
    "tp = seen_data[\"TP\"]\n",
    "fp = seen_data[\"FP\"]\n",
    "fn = seen_data[\"FN\"]\n",
    "precision = tp / (tp + fp) if (tp + fp) > 0 else 0.0\n",
    "recall = tp / (tp + fn) if (tp + fn) > 0 else 0.0\n",
    "f1_score = 2 * precision * recall / (precision + recall) if (precision + recall) > 0 else 0.0\n",
    "false_discovery_rate = fp / (tp + fp) if (tp + fp) > 0 else 0.0\n",
    "miss_rate = fn / (tp + fn) if (tp + fn) > 0 else 0.0\n",
    "print(f\"Scores on users in the train or validation set using threshold 1\")\n",
    "print(f\"True Positives (TP):          {tp}\")\n",
    "print(f\"False Positives (FP):         {fp}\")\n",
    "print(f\"False Negatives (FN):         {fn}\")\n",
    "print()\n",
    "print(f\"Precision:                    {precision:.4f}\")\n",
    "print(f\"Recall (TPR):                 {recall:.4f}\")\n",
    "print(f\"F1 Score:                     {f1_score:.4f}\")\n",
    "print(f\"False Discovery Rate (FDR):   {false_discovery_rate:.4f}\")\n",
    "print(f\"Miss Rate (FNR):              {miss_rate:.4f}\")\n",
    "print(f\"Precision confidence interval: {precision_confidence_interval(tp=tp, fp=fp)}\")"
   ]
  },
  {
   "cell_type": "code",
   "execution_count": 57,
   "id": "d1aa9970",
   "metadata": {},
   "outputs": [
    {
     "name": "stdout",
     "output_type": "stream",
     "text": [
      "Scores on users not in the train or validation set using threshold 1\n",
      "True Positives (TP):          1144\n",
      "False Positives (FP):         123\n",
      "False Negatives (FN):         398\n",
      "\n",
      "Precision:                    0.9029\n",
      "Recall (TPR):                 0.7419\n",
      "F1 Score:                     0.8145\n",
      "False Discovery Rate (FDR):   0.0971\n",
      "Miss Rate (FNR):              0.2581\n",
      "Precision confidence interval: (0.8853792118102539, 0.918025487425369)\n"
     ]
    }
   ],
   "source": [
    "new_data = data[\"new\"]\n",
    "tp = new_data[\"TP\"]\n",
    "fp = new_data[\"FP\"]\n",
    "fn = new_data[\"FN\"]\n",
    "precision = tp / (tp + fp) if (tp + fp) > 0 else 0.0\n",
    "recall = tp / (tp + fn) if (tp + fn) > 0 else 0.0\n",
    "f1_score = 2 * precision * recall / (precision + recall) if (precision + recall) > 0 else 0.0\n",
    "false_discovery_rate = fp / (tp + fp) if (tp + fp) > 0 else 0.0\n",
    "miss_rate = fn / (tp + fn) if (tp + fn) > 0 else 0.0\n",
    "print(f\"Scores on users not in the train or validation set using threshold 1\")\n",
    "print(f\"True Positives (TP):          {tp}\")\n",
    "print(f\"False Positives (FP):         {fp}\")\n",
    "print(f\"False Negatives (FN):         {fn}\")\n",
    "print()\n",
    "print(f\"Precision:                    {precision:.4f}\")\n",
    "print(f\"Recall (TPR):                 {recall:.4f}\")\n",
    "print(f\"F1 Score:                     {f1_score:.4f}\")\n",
    "print(f\"False Discovery Rate (FDR):   {false_discovery_rate:.4f}\")\n",
    "print(f\"Miss Rate (FNR):              {miss_rate:.4f}\")\n",
    "print(f\"Precision confidence interval: {precision_confidence_interval(tp=tp, fp=fp)}\")"
   ]
  },
  {
   "cell_type": "code",
   "execution_count": 58,
   "id": "6dd48c39",
   "metadata": {},
   "outputs": [],
   "source": [
    "with open(\"data/testing_data_dict_threshold_1.pkl\", \"wb\") as f:\n",
    "    pickle.dump(data, f)"
   ]
  },
  {
   "cell_type": "code",
   "execution_count": 59,
   "id": "7a1cbe87",
   "metadata": {},
   "outputs": [
    {
     "name": "stdout",
     "output_type": "stream",
     "text": [
      "Scores on all users regardless of if they have been seen or not using threshold 3\n",
      "True Positives (TP):          1056\n",
      "False Positives (FP):         50\n",
      "False Negatives (FN):         616\n",
      "\n",
      "Precision:                    0.9548\n",
      "Recall (TPR):                 0.6316\n",
      "F1 Score:                     0.7603\n",
      "False Discovery Rate (FDR):   0.0452\n",
      "Miss Rate (FNR):              0.3684\n",
      "Precision confidence interval: (0.9408938921691955, 0.9655418802599268)\n"
     ]
    }
   ],
   "source": [
    "data = evaluate_on_old_games(player_scores_per_game, threshold=3)\n",
    "overall_data = data[\"overall\"]\n",
    "tp = overall_data[\"TP\"]\n",
    "fp = overall_data[\"FP\"]\n",
    "fn = overall_data[\"FN\"]\n",
    "precision = tp / (tp + fp) if (tp + fp) > 0 else 0.0\n",
    "recall = tp / (tp + fn) if (tp + fn) > 0 else 0.0\n",
    "f1_score = 2 * precision * recall / (precision + recall) if (precision + recall) > 0 else 0.0\n",
    "false_discovery_rate = fp / (tp + fp) if (tp + fp) > 0 else 0.0\n",
    "miss_rate = fn / (tp + fn) if (tp + fn) > 0 else 0.0\n",
    "print(f\"Scores on all users regardless of if they have been seen or not using threshold 3\")\n",
    "print(f\"True Positives (TP):          {tp}\")\n",
    "print(f\"False Positives (FP):         {fp}\")\n",
    "print(f\"False Negatives (FN):         {fn}\")\n",
    "print()\n",
    "print(f\"Precision:                    {precision:.4f}\")\n",
    "print(f\"Recall (TPR):                 {recall:.4f}\")\n",
    "print(f\"F1 Score:                     {f1_score:.4f}\")\n",
    "print(f\"False Discovery Rate (FDR):   {false_discovery_rate:.4f}\")\n",
    "print(f\"Miss Rate (FNR):              {miss_rate:.4f}\")\n",
    "print(f\"Precision confidence interval: {precision_confidence_interval(tp=tp, fp=fp)}\")"
   ]
  },
  {
   "cell_type": "code",
   "execution_count": 60,
   "id": "7dbb8b3c",
   "metadata": {},
   "outputs": [
    {
     "name": "stdout",
     "output_type": "stream",
     "text": [
      "Scores on users in the train or validation set using threshold 3\n",
      "True Positives (TP):          52\n",
      "False Positives (FP):         1\n",
      "False Negatives (FN):         4\n",
      "\n",
      "Precision:                    0.9811\n",
      "Recall (TPR):                 0.9286\n",
      "F1 Score:                     0.9541\n",
      "False Discovery Rate (FDR):   0.0189\n",
      "Miss Rate (FNR):              0.0714\n",
      "Precision confidence interval: (0.9005708794749876, 0.9966615466117361)\n"
     ]
    }
   ],
   "source": [
    "seen_data = data[\"seen\"]\n",
    "tp = seen_data[\"TP\"]\n",
    "fp = seen_data[\"FP\"]\n",
    "fn = seen_data[\"FN\"]\n",
    "precision = tp / (tp + fp) if (tp + fp) > 0 else 0.0\n",
    "recall = tp / (tp + fn) if (tp + fn) > 0 else 0.0\n",
    "f1_score = 2 * precision * recall / (precision + recall) if (precision + recall) > 0 else 0.0\n",
    "false_discovery_rate = fp / (tp + fp) if (tp + fp) > 0 else 0.0\n",
    "miss_rate = fn / (tp + fn) if (tp + fn) > 0 else 0.0\n",
    "print(f\"Scores on users in the train or validation set using threshold 3\")\n",
    "print(f\"True Positives (TP):          {tp}\")\n",
    "print(f\"False Positives (FP):         {fp}\")\n",
    "print(f\"False Negatives (FN):         {fn}\")\n",
    "print()\n",
    "print(f\"Precision:                    {precision:.4f}\")\n",
    "print(f\"Recall (TPR):                 {recall:.4f}\")\n",
    "print(f\"F1 Score:                     {f1_score:.4f}\")\n",
    "print(f\"False Discovery Rate (FDR):   {false_discovery_rate:.4f}\")\n",
    "print(f\"Miss Rate (FNR):              {miss_rate:.4f}\")\n",
    "print(f\"Precision confidence interval: {precision_confidence_interval(tp=tp, fp=fp)}\")"
   ]
  },
  {
   "cell_type": "code",
   "execution_count": 61,
   "id": "5a518400",
   "metadata": {},
   "outputs": [
    {
     "name": "stdout",
     "output_type": "stream",
     "text": [
      "Scores on users not in the train or validation set using threshold 3\n",
      "True Positives (TP):          1004\n",
      "False Positives (FP):         49\n",
      "False Negatives (FN):         612\n",
      "\n",
      "Precision:                    0.9535\n",
      "Recall (TPR):                 0.6213\n",
      "F1 Score:                     0.7523\n",
      "False Discovery Rate (FDR):   0.0465\n",
      "Miss Rate (FNR):              0.3787\n",
      "Precision confidence interval: (0.9390121869695278, 0.9646238239281362)\n"
     ]
    }
   ],
   "source": [
    "new_data = data[\"new\"]\n",
    "tp = new_data[\"TP\"]\n",
    "fp = new_data[\"FP\"]\n",
    "fn = new_data[\"FN\"]\n",
    "precision = tp / (tp + fp) if (tp + fp) > 0 else 0.0\n",
    "recall = tp / (tp + fn) if (tp + fn) > 0 else 0.0\n",
    "f1_score = 2 * precision * recall / (precision + recall) if (precision + recall) > 0 else 0.0\n",
    "false_discovery_rate = fp / (tp + fp) if (tp + fp) > 0 else 0.0\n",
    "miss_rate = fn / (tp + fn) if (tp + fn) > 0 else 0.0\n",
    "print(f\"Scores on users not in the train or validation set using threshold 3\")\n",
    "print(f\"True Positives (TP):          {tp}\")\n",
    "print(f\"False Positives (FP):         {fp}\")\n",
    "print(f\"False Negatives (FN):         {fn}\")\n",
    "print()\n",
    "print(f\"Precision:                    {precision:.4f}\")\n",
    "print(f\"Recall (TPR):                 {recall:.4f}\")\n",
    "print(f\"F1 Score:                     {f1_score:.4f}\")\n",
    "print(f\"False Discovery Rate (FDR):   {false_discovery_rate:.4f}\")\n",
    "print(f\"Miss Rate (FNR):              {miss_rate:.4f}\")\n",
    "print(f\"Precision confidence interval: {precision_confidence_interval(tp=tp, fp=fp)}\")"
   ]
  },
  {
   "cell_type": "code",
   "execution_count": 62,
   "id": "7696492c",
   "metadata": {},
   "outputs": [],
   "source": [
    "with open(\"data/testing_data_dict_threshold_3.pkl\", \"wb\") as f:\n",
    "    pickle.dump(data, f)"
   ]
  },
  {
   "cell_type": "code",
   "execution_count": 63,
   "id": "09c1fa41",
   "metadata": {},
   "outputs": [
    {
     "name": "stdout",
     "output_type": "stream",
     "text": [
      "Scores on all users regardless of if they have been seen or not using threshold 5\n",
      "True Positives (TP):          907\n",
      "False Positives (FP):         33\n",
      "False Negatives (FN):         782\n",
      "\n",
      "Precision:                    0.9649\n",
      "Recall (TPR):                 0.5370\n",
      "F1 Score:                     0.6900\n",
      "False Discovery Rate (FDR):   0.0351\n",
      "Miss Rate (FNR):              0.4630\n",
      "Precision confidence interval: (0.9511083014242949, 0.9748946748510223)\n"
     ]
    }
   ],
   "source": [
    "data = evaluate_on_old_games(player_scores_per_game, threshold=5)\n",
    "overall_data = data[\"overall\"]\n",
    "tp = overall_data[\"TP\"]\n",
    "fp = overall_data[\"FP\"]\n",
    "fn = overall_data[\"FN\"]\n",
    "precision = tp / (tp + fp) if (tp + fp) > 0 else 0.0\n",
    "recall = tp / (tp + fn) if (tp + fn) > 0 else 0.0\n",
    "f1_score = 2 * precision * recall / (precision + recall) if (precision + recall) > 0 else 0.0\n",
    "false_discovery_rate = fp / (tp + fp) if (tp + fp) > 0 else 0.0\n",
    "miss_rate = fn / (tp + fn) if (tp + fn) > 0 else 0.0\n",
    "print(f\"Scores on all users regardless of if they have been seen or not using threshold 5\")\n",
    "print(f\"True Positives (TP):          {tp}\")\n",
    "print(f\"False Positives (FP):         {fp}\")\n",
    "print(f\"False Negatives (FN):         {fn}\")\n",
    "print()\n",
    "print(f\"Precision:                    {precision:.4f}\")\n",
    "print(f\"Recall (TPR):                 {recall:.4f}\")\n",
    "print(f\"F1 Score:                     {f1_score:.4f}\")\n",
    "print(f\"False Discovery Rate (FDR):   {false_discovery_rate:.4f}\")\n",
    "print(f\"Miss Rate (FNR):              {miss_rate:.4f}\")\n",
    "print(f\"Precision confidence interval: {precision_confidence_interval(tp=tp, fp=fp)}\")"
   ]
  },
  {
   "cell_type": "code",
   "execution_count": 64,
   "id": "be47791c",
   "metadata": {},
   "outputs": [
    {
     "name": "stdout",
     "output_type": "stream",
     "text": [
      "Scores on users in the train or validation set using threshold 5\n",
      "True Positives (TP):          48\n",
      "False Positives (FP):         1\n",
      "False Negatives (FN):         8\n",
      "\n",
      "Precision:                    0.9796\n",
      "Recall (TPR):                 0.8571\n",
      "F1 Score:                     0.9143\n",
      "False Discovery Rate (FDR):   0.0204\n",
      "Miss Rate (FNR):              0.1429\n",
      "Precision confidence interval: (0.8930647847660838, 0.9963883274101746)\n"
     ]
    }
   ],
   "source": [
    "seen_data = data[\"seen\"]\n",
    "tp = seen_data[\"TP\"]\n",
    "fp = seen_data[\"FP\"]\n",
    "fn = seen_data[\"FN\"]\n",
    "precision = tp / (tp + fp) if (tp + fp) > 0 else 0.0\n",
    "recall = tp / (tp + fn) if (tp + fn) > 0 else 0.0\n",
    "f1_score = 2 * precision * recall / (precision + recall) if (precision + recall) > 0 else 0.0\n",
    "false_discovery_rate = fp / (tp + fp) if (tp + fp) > 0 else 0.0\n",
    "miss_rate = fn / (tp + fn) if (tp + fn) > 0 else 0.0\n",
    "print(f\"Scores on users in the train or validation set using threshold 5\")\n",
    "print(f\"True Positives (TP):          {tp}\")\n",
    "print(f\"False Positives (FP):         {fp}\")\n",
    "print(f\"False Negatives (FN):         {fn}\")\n",
    "print()\n",
    "print(f\"Precision:                    {precision:.4f}\")\n",
    "print(f\"Recall (TPR):                 {recall:.4f}\")\n",
    "print(f\"F1 Score:                     {f1_score:.4f}\")\n",
    "print(f\"False Discovery Rate (FDR):   {false_discovery_rate:.4f}\")\n",
    "print(f\"Miss Rate (FNR):              {miss_rate:.4f}\")\n",
    "print(f\"Precision confidence interval: {precision_confidence_interval(tp=tp, fp=fp)}\")"
   ]
  },
  {
   "cell_type": "code",
   "execution_count": 65,
   "id": "e8ad7178",
   "metadata": {},
   "outputs": [
    {
     "name": "stdout",
     "output_type": "stream",
     "text": [
      "Scores on users not in the train or validation set using threshold 5\n",
      "True Positives (TP):          859\n",
      "False Positives (FP):         32\n",
      "False Negatives (FN):         774\n",
      "\n",
      "Precision:                    0.9641\n",
      "Recall (TPR):                 0.5260\n",
      "F1 Score:                     0.6807\n",
      "False Discovery Rate (FDR):   0.0359\n",
      "Miss Rate (FNR):              0.4740\n",
      "Precision confidence interval: (0.9497394924358736, 0.974446565159064)\n"
     ]
    }
   ],
   "source": [
    "new_data = data[\"new\"]\n",
    "tp = new_data[\"TP\"]\n",
    "fp = new_data[\"FP\"]\n",
    "fn = new_data[\"FN\"]\n",
    "precision = tp / (tp + fp) if (tp + fp) > 0 else 0.0\n",
    "recall = tp / (tp + fn) if (tp + fn) > 0 else 0.0\n",
    "f1_score = 2 * precision * recall / (precision + recall) if (precision + recall) > 0 else 0.0\n",
    "false_discovery_rate = fp / (tp + fp) if (tp + fp) > 0 else 0.0\n",
    "miss_rate = fn / (tp + fn) if (tp + fn) > 0 else 0.0\n",
    "print(f\"Scores on users not in the train or validation set using threshold 5\")\n",
    "print(f\"True Positives (TP):          {tp}\")\n",
    "print(f\"False Positives (FP):         {fp}\")\n",
    "print(f\"False Negatives (FN):         {fn}\")\n",
    "print()\n",
    "print(f\"Precision:                    {precision:.4f}\")\n",
    "print(f\"Recall (TPR):                 {recall:.4f}\")\n",
    "print(f\"F1 Score:                     {f1_score:.4f}\")\n",
    "print(f\"False Discovery Rate (FDR):   {false_discovery_rate:.4f}\")\n",
    "print(f\"Miss Rate (FNR):              {miss_rate:.4f}\")\n",
    "print(f\"Precision confidence interval: {precision_confidence_interval(tp=tp, fp=fp)}\")"
   ]
  },
  {
   "cell_type": "code",
   "execution_count": 66,
   "id": "dbfb184f",
   "metadata": {},
   "outputs": [],
   "source": [
    "with open(\"data/testing_data_dict_threshold_5.pkl\", \"wb\") as f:\n",
    "    pickle.dump(data, f)"
   ]
  },
  {
   "cell_type": "code",
   "execution_count": 67,
   "id": "6c3fc32a",
   "metadata": {},
   "outputs": [],
   "source": [
    "def evaluate_threshold_curve(player_scores_per_game):\n",
    "    thresholds = np.linspace(0, 5, 100)\n",
    "    precisions = []\n",
    "    recalls = []\n",
    "    f1_scores = []\n",
    "\n",
    "    for threshold in thresholds:\n",
    "        tp = 0\n",
    "        fp = 0\n",
    "        fn = 0\n",
    "\n",
    "        for scores in player_scores_per_game:\n",
    "            bot_score = scores[\"bot\"]\n",
    "            for player, human_score in scores.items():\n",
    "                if player == \"bot\":\n",
    "                    continue\n",
    "\n",
    "                if bot_score - human_score > threshold:\n",
    "                    tp += 1\n",
    "                elif human_score - bot_score > threshold:\n",
    "                    fp += 1\n",
    "                else:\n",
    "                    fn += 1\n",
    "\n",
    "        precision = tp / (tp + fp) if tp + fp > 0 else 0\n",
    "        recall = tp / (tp + fn) if tp + fn > 0 else 0\n",
    "        f1 = 2 * precision * recall / (precision + recall) if precision + recall > 0 else 0\n",
    "\n",
    "        precisions.append(precision)\n",
    "        recalls.append(recall)\n",
    "        f1_scores.append(f1)\n",
    "\n",
    "    plt.figure(figsize=(10, 6))\n",
    "    plt.plot(thresholds, precisions, label=\"Precision\", color='blue')\n",
    "    plt.plot(thresholds, recalls, label=\"Recall\", color='green')\n",
    "    plt.plot(thresholds, f1_scores, label=\"F1 Score\", color='red')\n",
    "    plt.xlabel(\"Threshold\")\n",
    "    plt.ylabel(\"Score\")\n",
    "    plt.title(\"Classifier Performance vs Threshold\")\n",
    "    plt.legend()\n",
    "    plt.grid(True)\n",
    "    plt.tight_layout()\n",
    "    plt.show()\n",
    "\n",
    "    return thresholds, precisions, recalls, f1_scores"
   ]
  },
  {
   "cell_type": "code",
   "execution_count": 68,
   "id": "60469622",
   "metadata": {},
   "outputs": [
    {
     "data": {
      "image/png": "[encoded data removed]",
      "text/plain": [
       "<Figure size 1000x600 with 1 Axes>"
      ]
     },
     "metadata": {},
     "output_type": "display_data"
    }
   ],
   "source": [
    "thresholds, precisions, recalls, f1_scores = evaluate_threshold_curve(player_scores_per_game)"
   ]
  },
  {
   "cell_type": "code",
   "execution_count": 69,
   "id": "aee0872b",
   "metadata": {},
   "outputs": [],
   "source": [
    "with open(\"data/val_games_player_scores.pkl\", \"wb\") as f:\n",
    "    pickle.dump(player_scores_per_game, f)"
   ]
  },
  {
   "cell_type": "code",
   "execution_count": 70,
   "id": "6c668ec7",
   "metadata": {},
   "outputs": [],
   "source": [
    "def evaluate_thresholds_roc(player_scores_per_game, threshold_list):\n",
    "    score_diffs = []\n",
    "    labels = []\n",
    "\n",
    "    for scores in player_scores_per_game:\n",
    "        bot_score = scores[\"bot\"]\n",
    "        for player, human_score in scores.items():\n",
    "            if player == \"bot\":\n",
    "                continue\n",
    "            score_diffs.append(bot_score - human_score)\n",
    "            labels.append(1)\n",
    "\n",
    "            score_diffs.append(human_score - bot_score)\n",
    "            labels.append(0)\n",
    "\n",
    "    score_diffs = np.array(score_diffs)\n",
    "    labels = np.array(labels)\n",
    "\n",
    "    fpr_base, tpr_base, _ = roc_curve(labels, score_diffs)\n",
    "    roc_auc_base = auc(fpr_base, tpr_base)\n",
    "\n",
    "    precision_base, recall_base, _ = precision_recall_curve(labels, score_diffs)\n",
    "    pr_auc_base = auc(recall_base, precision_base)\n",
    "\n",
    "    baseline_precision = np.mean(labels)\n",
    "\n",
    "    plt.figure(figsize=(14, 6))\n",
    "    plt.subplot(1, 2, 1)\n",
    "    plt.plot(fpr_base, tpr_base, label=f\"Base ROC AUC = {roc_auc_base:.4f}\", color=\"black\", linestyle=\"--\")\n",
    "    plt.plot([0, 1], [0, 1], linestyle=\":\", color=\"gray\", label=\"Random Classifier (Baseline)\")\n",
    "\n",
    "    for thresh in threshold_list:\n",
    "        preds = (score_diffs >= thresh).astype(int)\n",
    "        tp = np.sum((preds == 1) & (labels == 1))\n",
    "        fp = np.sum((preds == 1) & (labels == 0))\n",
    "        fn = np.sum((preds == 0) & (labels == 1))\n",
    "        tn = np.sum((preds == 0) & (labels == 0))\n",
    "\n",
    "        fpr = fp / (fp + tn) if (fp + tn) else 0\n",
    "        tpr = tp / (tp + fn) if (tp + fn) else 0\n",
    "        plt.scatter(fpr, tpr, label=f\"Threshold {thresh:.2f}\")\n",
    "\n",
    "    plt.xlabel(\"False Positive Rate\")\n",
    "    plt.ylabel(\"True Positive Rate\")\n",
    "    plt.title(\"ROC Curve\")\n",
    "    plt.legend()\n",
    "    plt.grid(True)\n",
    "\n",
    "\n",
    "\n",
    "    plt.subplot(1, 2, 2)\n",
    "    plt.plot(recall_base, precision_base, label=f\"Base PR AUC = {pr_auc_base:.4f}\", color=\"black\", linestyle=\"--\")\n",
    "    plt.axhline(y=baseline_precision, color=\"gray\", linestyle=\":\", label=f\"Baseline Precision = {baseline_precision:.2f}\")\n",
    "\n",
    "    for thresh in threshold_list:\n",
    "        preds = (score_diffs >= thresh).astype(int)\n",
    "        tp = np.sum((preds == 1) & (labels == 1))\n",
    "        fp = np.sum((preds == 1) & (labels == 0))\n",
    "        fn = np.sum((preds == 0) & (labels == 1))\n",
    "\n",
    "        precision = tp / (tp + fp) if (tp + fp) else 0\n",
    "        recall = tp / (tp + fn) if (tp + fn) else 0\n",
    "        plt.scatter(recall, precision, label=f\"Threshold {thresh:.2f}\")\n",
    "\n",
    "    plt.xlabel(\"Recall\")\n",
    "    plt.ylabel(\"Precision\")\n",
    "    plt.title(\"Precision-Recall Curve\")\n",
    "    plt.legend()\n",
    "    plt.ylim(-0.05, 1.05)\n",
    "    plt.grid(True)\n",
    "\n",
    "    plt.tight_layout()\n",
    "    plt.show()\n",
    "\n",
    "    return {\n",
    "        \"base_roc_auc\": roc_auc_base,\n",
    "        \"base_pr_auc\": pr_auc_base,\n",
    "        \"baseline_precision\": baseline_precision\n",
    "    }\n"
   ]
  },
  {
   "cell_type": "code",
   "execution_count": 71,
   "id": "3090f576",
   "metadata": {},
   "outputs": [
    {
     "data": {
      "image/png": "[encoded data removed]",
      "text/plain": [
       "<Figure size 1400x600 with 2 Axes>"
      ]
     },
     "metadata": {},
     "output_type": "display_data"
    }
   ],
   "source": [
    "output = evaluate_thresholds_roc(player_scores_per_game, [0, 1, 2, 3, 5])"
   ]
  },
  {
   "cell_type": "code",
   "execution_count": 72,
   "id": "119ef31a",
   "metadata": {},
   "outputs": [],
   "source": [
    "with open(\"data/false_game_ids_threshold_3.pkl\", \"rb\") as f:\n",
    "    wrong_indices = pickle.load(f)\n",
    "    \n",
    "val_games = game_ids"
   ]
  },
  {
   "cell_type": "code",
   "execution_count": 73,
   "id": "185d41eb",
   "metadata": {},
   "outputs": [
    {
     "name": "stdout",
     "output_type": "stream",
     "text": [
      "4.259370314842578\n"
     ]
    }
   ],
   "source": [
    "lengths = 0\n",
    "long_wrong_games = []\n",
    "for game in wrong_indices:\n",
    "    game_messages = []\n",
    "    game_data = chat_data[game]\n",
    "    for message in game_data[\"messages\"]:\n",
    "        if message[\"userID\"] == \"GameMaster\":\n",
    "            if \"won\" in message[\"message\"] or \"surrendered\" in message[\"message\"] or \"canceled\" in message[\"message\"] or \"lost\" in message[\"message\"] or \"timed out\" in message[\"message\"] or \"disconnected\" in message[\"message\"]:\n",
    "                break\n",
    "            else:\n",
    "                continue\n",
    "        game_messages.append(message[\"message\"])\n",
    "    lengths += len(game_messages)\n",
    "    if len(game_messages) >= 10:\n",
    "        long_wrong_games.append(game)\n",
    "\n",
    "print(lengths/len(wrong_indices))"
   ]
  },
  {
   "cell_type": "code",
   "execution_count": 74,
   "id": "983fd827",
   "metadata": {},
   "outputs": [
    {
     "name": "stdout",
     "output_type": "stream",
     "text": [
      "64\n",
      "667\n"
     ]
    }
   ],
   "source": [
    "print(len(long_wrong_games))\n",
    "print(len(wrong_indices))"
   ]
  },
  {
   "cell_type": "code",
   "execution_count": 75,
   "id": "86f8aced",
   "metadata": {},
   "outputs": [
    {
     "name": "stdout",
     "output_type": "stream",
     "text": [
      "[4051, 4051, 4052, 4052, 4053, 4053, 4054, 4054, 4055, 4055, 4059, 4064, 4066, 4067, 4069, 4069, 4082, 4082, 4085, 4085, 4086, 4086, 4087, 4090, 4090, 4094, 4094, 4096, 4096, 4097, 4097, 4099, 4099, 4100, 4103, 4104, 4112, 4114, 4116, 4120, 4120, 4121, 4121, 4127, 4141, 4148, 4149, 4151, 4151, 4152, 4152, 4153, 4153, 4154, 4154, 4155, 4155, 4156, 4157, 4157, 4158, 4158, 4159, 4159, 4162, 4162, 4164, 4164, 4168, 4168, 4170, 4170, 4171, 4171, 4176, 4176, 4178, 4178, 4180, 4181, 4187, 4187, 4192, 4192, 4198, 4204, 4208, 4209, 4211, 4211, 4214, 4214, 4215, 4216, 4221, 4223, 4223, 4224, 4224, 4233, 4233, 4237, 4237, 4239, 4239, 4241, 4242, 4243, 4244, 4244, 4246, 4250, 4253, 4255, 4256, 4258, 4258, 4259, 4260, 4260, 4261, 4262, 4263, 4266, 4266, 4271, 4271, 4273, 4274, 4275, 4275, 4278, 4284, 4289, 4289, 4291, 4299, 4299, 4300, 4300, 4304, 4305, 4305, 4310, 4313, 4316, 4316, 4319, 4320, 4320, 4322, 4324, 4324, 4325, 4326, 4328, 4330, 4330, 4331, 4331, 4334, 4337, 4337, 4339, 4339, 4341, 4345, 4345, 4348, 4348, 4350, 4350, 4354, 4354, 4357, 4358, 4359, 4359, 4360, 4364, 4364, 4371, 4371, 4372, 4372, 4373, 4374, 4374, 4375, 4375, 4377, 4377, 4381, 4382, 4382, 4383, 4383, 4387, 4390, 4390, 4396, 4396, 4398, 4398, 4400, 4403, 4403, 4404, 4404, 4408, 4408, 4410, 4410, 4413, 4413, 4420, 4430, 4430, 4432, 4433, 4433, 4434, 4434, 4435, 4435, 4437, 4437, 4438, 4438, 4446, 4446, 4449, 4450, 4450, 4451, 4453, 4462, 4463, 4464, 4466, 4470, 4481, 4484, 4484, 4485, 4485, 4488, 4488, 4491, 4491, 4492, 4493, 4493, 4500, 4501, 4509, 4509, 4510, 4518, 4519, 4528, 4540, 4546, 4549, 4551, 4552, 4552, 4554, 4554, 4558, 4560, 4560, 4572, 4578, 4579, 4597, 4597, 4606, 4614, 4614, 4623, 4625, 4627, 4627, 4628, 4631, 4635, 4635, 4636, 4636, 4639, 4641, 4641, 4653, 4654, 4657, 4659, 4662, 4663, 4663, 4667, 4667, 4668, 4670, 4670, 4672, 4672, 4673, 4677, 4677, 4679, 4681, 4682, 4689, 4689, 4691, 4691, 4692, 4695, 4695, 4696, 4696, 4697, 4697, 4698, 4699, 4699, 4701, 4701, 4704, 4704, 4705, 4706, 4706, 4707, 4707, 4708, 4708, 4712, 4713, 4713, 4714, 4714, 4716, 4719, 4719, 4723, 4726, 4729, 4731, 4732, 4732, 4736, 4737, 4738, 4738, 4741, 4743, 4743, 4744, 4745, 4745, 4749, 4751, 4752, 4769, 4769, 4770, 4770, 4771, 4771, 4772, 4772, 4773, 4773, 4776, 4776, 4777, 4777, 4778, 4778, 4779, 4779, 4780, 4780, 4781, 4781, 4783, 4783, 4784, 4784, 4785, 4785, 4786, 4786, 4787, 4787, 4790, 4790, 4791, 4791, 4792, 4792, 4793, 4793, 4794, 4794, 4795, 4795, 4796, 4796, 4797, 4797, 4798, 4798, 4799, 4799, 4800, 4800, 4801, 4801, 4802, 4802, 4803, 4803, 4804, 4804, 4805, 4805, 4806, 4806, 4807, 4807, 4808, 4808, 4809, 4809, 4810, 4810, 4811, 4811, 4812, 4812, 4813, 4813, 4814, 4814, 4815, 4815, 4816, 4816, 4817, 4817, 4818, 4818, 4819, 4819, 4820, 4820, 4821, 4821, 4822, 4822, 4823, 4823, 4824, 4824, 4825, 4825, 4826, 4826, 4827, 4827, 4828, 4828, 4829, 4829, 4830, 4830, 4831, 4831, 4832, 4832, 4836, 4839, 4856, 4856, 4859, 4865, 4865, 4866, 4866, 4867, 4867, 4868, 4868, 4869, 4869, 4870, 4870, 4871, 4871, 4872, 4872, 4873, 4873, 4874, 4874, 4875, 4875, 4876, 4876, 4877, 4877, 4878, 4878, 4879, 4879, 4880, 4880, 4881, 4881, 4882, 4882, 4883, 4883, 4884, 4884, 4885, 4885, 4886, 4886, 4887, 4887, 4888, 4888, 4889, 4889, 4890, 4890, 4893, 4894, 4901, 4902, 4902, 4904, 4910, 4914, 4916, 4917, 4920, 4923, 4925, 4926, 4926, 4933, 4934, 4935, 4936, 4938, 4939, 4940, 4941, 4941, 4942, 4943, 4944, 4946, 4947, 4948, 4949, 4951, 4953, 4954, 4955, 4956, 4957, 4959, 4960, 4963, 4964, 4965, 4966, 4967, 4969, 4970, 4971, 4972, 4973, 4975, 4976, 4980, 4981, 4985, 4993, 4994, 4994, 5001, 5001, 5002, 5002, 5006, 5006, 5007, 5008, 5008, 5009, 5012, 5013, 5014, 5016, 5016, 5017, 5019, 5019, 5020, 5024, 5025, 5026, 5029, 5030, 5030, 5031, 5031, 5032, 5033, 5035, 5035, 5036, 5036, 5037, 5037, 5038, 5040, 5040, 5042, 5042, 5047, 5051, 5052, 5053, 5055, 5055, 5057, 5057, 5060, 5060, 5061, 5061, 5062, 5063, 5073, 5077, 5082, 5083, 5084, 5084, 5087, 5087, 5089, 5091, 5091, 5092, 5094, 5094, 5095, 5095]\n"
     ]
    }
   ],
   "source": [
    "print(wrong_indices)"
   ]
  },
  {
   "cell_type": "code",
   "execution_count": 76,
   "id": "da212459",
   "metadata": {},
   "outputs": [
    {
     "name": "stdout",
     "output_type": "stream",
     "text": [
      "10\n",
      "53\n"
     ]
    }
   ],
   "source": [
    "english = 0\n",
    "german = 0\n",
    "for idx in long_wrong_games:\n",
    "    if chat_data[idx][\"language\"] == \"de\":\n",
    "        german += 1\n",
    "    if chat_data[idx][\"language\"] == \"en\":\n",
    "        english += 1\n",
    "print(german)\n",
    "print(english)"
   ]
  },
  {
   "cell_type": "code",
   "execution_count": 77,
   "id": "e97eb1df",
   "metadata": {},
   "outputs": [],
   "source": [
    "with open(\"data/corresponding_game_ids.pkl\", \"rb\") as f:\n",
    "    tested_game_ids = pickle.load(f)"
   ]
  },
  {
   "cell_type": "code",
   "execution_count": 78,
   "id": "c820a458",
   "metadata": {},
   "outputs": [],
   "source": [
    "def evaluate_language_curves(player_scores_per_game):\n",
    "    with open(\"data/corresponding_game_ids.pkl\", \"rb\") as f:\n",
    "        game_ids = pickle.load(f)\n",
    "    with open(\"data/100925_data.pkl\", \"rb\") as f:\n",
    "        chat_data = pickle.load(f)\n",
    "\n",
    "    def get_score_diffs(labels_filter=None):\n",
    "        score_diffs = []\n",
    "        labels = []\n",
    "        for scores, game_id in zip(player_scores_per_game, game_ids):\n",
    "            lang = chat_data[game_id][\"language\"]\n",
    "            if labels_filter and lang not in labels_filter:\n",
    "                continue\n",
    "\n",
    "            bot_score = scores[\"bot\"]\n",
    "            for player, human_score in scores.items():\n",
    "                if player == \"bot\":\n",
    "                    continue\n",
    "                score_diffs.append(bot_score - human_score)\n",
    "                labels.append(1)\n",
    "                score_diffs.append(human_score - bot_score)\n",
    "                labels.append(0)\n",
    "        return np.array(score_diffs), np.array(labels)\n",
    "\n",
    "    plt.figure(figsize=(14, 6))\n",
    "\n",
    "    # --- ROC Curve ---\n",
    "    plt.subplot(1, 2, 1)\n",
    "    for lang_label, langs in [(\"EN\", [\"en\"]), (\"DE\", [\"de\"]), (\"All\", None)]:\n",
    "        score_diffs, labels = get_score_diffs(labels_filter=langs)\n",
    "        fpr, tpr, _ = roc_curve(labels, score_diffs)\n",
    "        roc_auc = auc(fpr, tpr)\n",
    "        plt.plot(fpr, tpr, label=f\"{lang_label} ROC AUC = {roc_auc:.4f}\")\n",
    "\n",
    "    plt.plot([0, 1], [0, 1], linestyle=\":\", color=\"gray\", label=\"Random Classifier\")\n",
    "    plt.xlabel(\"False Positive Rate\")\n",
    "    plt.ylabel(\"True Positive Rate\")\n",
    "    plt.title(\"ROC Curve by Language\")\n",
    "    plt.legend()\n",
    "    plt.grid(True)\n",
    "\n",
    "    # --- Precision-Recall Curve ---\n",
    "    plt.subplot(1, 2, 2)\n",
    "    for lang_label, langs in [(\"EN\", [\"en\"]), (\"DE\", [\"de\"]), (\"All\", None)]:\n",
    "        score_diffs, labels = get_score_diffs(labels_filter=langs)\n",
    "        precision, recall, _ = precision_recall_curve(labels, score_diffs)\n",
    "        pr_auc = auc(recall, precision)\n",
    "        baseline_precision = np.mean(labels)\n",
    "        plt.plot(recall, precision, label=f\"{lang_label} PR AUC = {pr_auc:.4f}\")\n",
    "        plt.axhline(y=baseline_precision, color=\"gray\", linestyle=\":\", alpha=0.5)\n",
    "\n",
    "    plt.xlabel(\"Recall\")\n",
    "    plt.ylabel(\"Precision\")\n",
    "    plt.title(\"Precision-Recall Curve by Language\")\n",
    "    plt.legend()\n",
    "    plt.ylim(-0.05, 1.05)\n",
    "    plt.grid(True)\n",
    "\n",
    "    plt.tight_layout()\n",
    "    plt.show()\n"
   ]
  },
  {
   "cell_type": "code",
   "execution_count": 79,
   "id": "d1f3b10f",
   "metadata": {},
   "outputs": [
    {
     "data": {
      "image/png": "[encoded data removed]",
      "text/plain": [
       "<Figure size 1400x600 with 2 Axes>"
      ]
     },
     "metadata": {},
     "output_type": "display_data"
    }
   ],
   "source": [
    "output = evaluate_language_curves(player_scores_per_game)"
   ]
  },
  {
   "cell_type": "code",
   "execution_count": null,
   "id": "cfe9a8f5",
   "metadata": {},
   "outputs": [],
   "source": []
  }
 ],
 "metadata": {
  "kernelspec": {
   "display_name": "python312",
   "language": "python",
   "name": "python3"
  },
  "language_info": {
   "codemirror_mode": {
    "name": "ipython",
    "version": 3
   },
   "file_extension": ".py",
   "mimetype": "text/x-python",
   "name": "python",
   "nbconvert_exporter": "python",
   "pygments_lexer": "ipython3",
   "version": "3.12.5"
  }
 },
 "nbformat": 4,
 "nbformat_minor": 5
}
