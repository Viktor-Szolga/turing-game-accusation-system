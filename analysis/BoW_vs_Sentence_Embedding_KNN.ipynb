{
 "cells": [
  {
   "cell_type": "code",
   "execution_count": 87,
   "id": "c535c65f",
   "metadata": {},
   "outputs": [],
   "source": [
    "import pickle\n",
    "import pandas as pd\n",
    "import torch\n",
    "import numpy as np\n",
    "import matplotlib.pyplot as plt\n",
    "import random\n",
    "import sklearn\n",
    "import re\n",
    "from collections import Counter\n",
    "from matplotlib.lines import Line2D\n",
    "from sklearn.cluster import KMeans\n",
    "from sklearn.decomposition import PCA\n",
    "import pickle\n",
    "import numpy as np\n",
    "from sklearn.model_selection import train_test_split\n",
    "from sklearn.neighbors import KNeighborsClassifier\n",
    "from sklearn.metrics import accuracy_score"
   ]
  },
  {
   "cell_type": "code",
   "execution_count": 88,
   "id": "86d3b736",
   "metadata": {},
   "outputs": [],
   "source": [
    "torch.manual_seed(42)\n",
    "np.random.seed(42)\n",
    "random.seed(42)"
   ]
  },
  {
   "cell_type": "code",
   "execution_count": 96,
   "id": "7939facc",
   "metadata": {},
   "outputs": [
    {
     "name": "stdout",
     "output_type": "stream",
     "text": [
      "Loaded data\n"
     ]
    }
   ],
   "source": [
    "with open('../data/BoW_encodings.pkl', 'rb') as f:\n",
    "    message_encodings = np.array(pickle.load(f))\n",
    "with open('../data/labels.pkl', 'rb') as f:\n",
    "    labels = np.array(pickle.load(f))\n",
    "print(\"Loaded data\")"
   ]
  },
  {
   "cell_type": "code",
   "execution_count": 90,
   "id": "d6023b1a",
   "metadata": {},
   "outputs": [],
   "source": [
    "pca = sklearn.decomposition.PCA(n_components=2)\n",
    "pca_X = pca.fit_transform(message_encodings)"
   ]
  },
  {
   "cell_type": "code",
   "execution_count": null,
   "id": "0928e7a6",
   "metadata": {},
   "outputs": [
    {
     "name": "stdout",
     "output_type": "stream",
     "text": [
      "k=1:Train Accuracy = 0.9623\n",
      "k=1:Validation Accuracy = 0.7993\n",
      "\n",
      "k=2:Train Accuracy = 0.9194\n",
      "k=2:Validation Accuracy = 0.7982\n",
      "\n",
      "k=5:Train Accuracy = 0.8379\n",
      "k=5:Validation Accuracy = 0.7987\n",
      "\n",
      "k=10:Train Accuracy = 0.8130\n",
      "k=10:Validation Accuracy = 0.7930\n",
      "\n",
      "k=50:Train Accuracy = 0.7383\n",
      "k=50:Validation Accuracy = 0.7355\n",
      "\n",
      "k=100:Train Accuracy = 0.7187\n",
      "k=100:Validation Accuracy = 0.7183\n",
      "\n"
     ]
    }
   ],
   "source": [
    "ground_truth = labels[:, 0]\n",
    "X_train, X_test, y_train, y_test = train_test_split(\n",
    "    message_encodings, ground_truth, test_size=0.2, random_state=42, stratify=ground_truth\n",
    ")\n",
    "k_values = [1, 2, 5, 10, 50, 100]\n",
    "train_results = {}\n",
    "validation_results = {}\n",
    "\n",
    "for k in k_values:\n",
    "    knn = KNeighborsClassifier(n_neighbors=k)\n",
    "    knn.fit(X_train, y_train)\n",
    "    y_pred = knn.predict(X_train)\n",
    "    acc = accuracy_score(y_train, y_pred)\n",
    "    train_results[k] = acc\n",
    "    print(f\"k={k}:Train Accuracy = {acc:.4f}\")\n",
    "    y_pred = knn.predict(X_test)\n",
    "    acc = accuracy_score(y_test, y_pred)\n",
    "    validation_results[k] = acc\n",
    "    print(f\"k={k}:Validation Accuracy = {acc:.4f}\\n\")"
   ]
  },
  {
   "cell_type": "code",
   "execution_count": null,
   "id": "3be16bbb",
   "metadata": {},
   "outputs": [
    {
     "name": "stdout",
     "output_type": "stream",
     "text": [
      "Loaded data\n",
      "k=1:Train Accuracy = 1.0000\n",
      "k=1:Validation Accuracy = 0.8207\n",
      "\n",
      "k=2:Train Accuracy = 0.9038\n",
      "k=2:Validation Accuracy = 0.7945\n",
      "\n",
      "k=5:Train Accuracy = 0.8927\n",
      "k=5:Validation Accuracy = 0.8359\n",
      "\n",
      "k=10:Train Accuracy = 0.8713\n",
      "k=10:Validation Accuracy = 0.8421\n",
      "\n",
      "k=50:Train Accuracy = 0.8422\n",
      "k=50:Validation Accuracy = 0.8344\n",
      "\n",
      "k=100:Train Accuracy = 0.8267\n",
      "k=100:Validation Accuracy = 0.8249\n",
      "\n"
     ]
    }
   ],
   "source": [
    "import pickle\n",
    "import numpy as np\n",
    "from sklearn.model_selection import train_test_split\n",
    "from sklearn.neighbors import KNeighborsClassifier\n",
    "from sklearn.metrics import accuracy_score\n",
    "\n",
    "with open('../data/message_encodings.pkl', 'rb') as f:\n",
    "    message_encodings = np.array(pickle.load(f))\n",
    "with open('../data/labels.pkl', 'rb') as f:\n",
    "    labels = np.array(pickle.load(f))\n",
    "\n",
    "print(\"Loaded data\")\n",
    "ground_truth = labels[:, 0]\n",
    "X_train, X_test, y_train, y_test = train_test_split(\n",
    "    message_encodings, ground_truth, test_size=0.2, random_state=42, stratify=ground_truth\n",
    ")\n",
    "\n",
    "k_values = [1, 2, 5, 10, 50, 100]\n",
    "train_results = {}\n",
    "validation_results = {}\n",
    "\n",
    "for k in k_values:\n",
    "    knn = KNeighborsClassifier(n_neighbors=k)\n",
    "    knn.fit(X_train, y_train)\n",
    "    y_pred = knn.predict(X_train)\n",
    "    acc = accuracy_score(y_train, y_pred)\n",
    "    train_results[k] = acc\n",
    "    print(f\"k={k}:Train Accuracy = {acc:.4f}\")\n",
    "    y_pred = knn.predict(X_test)\n",
    "    acc = accuracy_score(y_test, y_pred)\n",
    "    validation_results[k] = acc\n",
    "    print(f\"k={k}:Validation Accuracy = {acc:.4f}\\n\")"
   ]
  },
  {
   "cell_type": "code",
   "execution_count": null,
   "id": "f09256e9",
   "metadata": {},
   "outputs": [],
   "source": []
  }
 ],
 "metadata": {
  "kernelspec": {
   "display_name": "Python 3",
   "language": "python",
   "name": "python3"
  },
  "language_info": {
   "codemirror_mode": {
    "name": "ipython",
    "version": 3
   },
   "file_extension": ".py",
   "mimetype": "text/x-python",
   "name": "python",
   "nbconvert_exporter": "python",
   "pygments_lexer": "ipython3",
   "version": "3.13.5"
  }
 },
 "nbformat": 4,
 "nbformat_minor": 5
}
