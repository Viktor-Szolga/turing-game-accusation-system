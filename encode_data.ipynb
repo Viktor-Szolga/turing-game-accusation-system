{
 "cells": [
  {
   "cell_type": "code",
   "execution_count": 3,
   "id": "8ccd1752",
   "metadata": {},
   "outputs": [],
   "source": [
    "import pickle\n",
    "import torch.nn as nn\n",
    "import torch\n",
    "import numpy as np\n",
    "import random\n",
    "import time\n",
    "from openai import OpenAI"
   ]
  },
  {
   "cell_type": "code",
   "execution_count": 4,
   "id": "550c35f6-22fd-446b-8ca1-b80f53476f09",
   "metadata": {},
   "outputs": [],
   "source": [
    "torch.manual_seed(42)\n",
    "np.random.seed(42)\n",
    "random.seed(42)"
   ]
  },
  {
   "cell_type": "code",
   "execution_count": 5,
   "id": "562c26b6",
   "metadata": {},
   "outputs": [],
   "source": [
    "with open(\"data/190325_data.pkl\", \"rb\") as f:\n",
    "    chat_data = pickle.load(f)\n",
    "    \n",
    "# Remove service chat\n",
    "del chat_data[-1000]"
   ]
  },
  {
   "cell_type": "code",
   "execution_count": 6,
   "id": "ac9a3cc7",
   "metadata": {},
   "outputs": [
    {
     "name": "stdout",
     "output_type": "stream",
     "text": [
      "Keys for game:\n",
      "dict_keys(['gameID', 'starttime', 'duration', 'botmodel', 'prompt', 'winner', 'createTS', 'updateTS', 'language', 'botname', 'messages', 'player_info'])\n",
      "\n",
      "Keys for message:\n",
      "dict_keys(['gameID', 'oldidx', 'color', 'userID', 'botID', 'message', 'create_time', 'colorID', 'messageidx'])\n"
     ]
    }
   ],
   "source": [
    "print(f\"Keys for game:\\n{chat_data[next(iter(chat_data.keys()))].keys()}\\n\")\n",
    "print(f\"Keys for message:\\n{chat_data[1895][\"messages\"][0].keys()}\")"
   ]
  },
  {
   "cell_type": "code",
   "execution_count": 7,
   "id": "2160bcdb",
   "metadata": {},
   "outputs": [
    {
     "name": "stdout",
     "output_type": "stream",
     "text": [
      "The dataset includes 22696 messages from 1559 games\n"
     ]
    }
   ],
   "source": [
    "# This filters out games discussing the chat after the game is over\n",
    "messages = []\n",
    "labels = []\n",
    "game_ids = []\n",
    "for game_id, game_data in chat_data.items():\n",
    "    for message in game_data[\"messages\"]:\n",
    "        if message[\"userID\"] == \"GameMaster\":\n",
    "            if \"won\" in message[\"message\"] or \"surrendered\" in message[\"message\"] or \"canceled\" in message[\"message\"] or \"lost\" in message[\"message\"] or \"timed out\" in message[\"message\"] or \"disconnected\" in message[\"message\"]:\n",
    "                break\n",
    "            else:\n",
    "                continue\n",
    "        messages.append(message[\"message\"])\n",
    "        labels.append([int(not message[\"botID\"]), message[\"botID\"]])\n",
    "        game_ids.append(message[\"gameID\"])\n",
    "        \n",
    "print(f\"The dataset includes {len(messages)} messages from {len(list(chat_data.keys()))} games\")"
   ]
  },
  {
   "cell_type": "code",
   "execution_count": 8,
   "id": "c52a532e",
   "metadata": {},
   "outputs": [
    {
     "name": "stdout",
     "output_type": "stream",
     "text": [
      "Message nr: 20952\n",
      "\n",
      "wie geht es deiner lieben mutti?\n",
      "Message from human\n",
      "\n",
      "Message from game with id: 3863\n"
     ]
    }
   ],
   "source": [
    "# Example message with label\n",
    "random_nr = random.randint(0, len(messages))\n",
    "print(f\"Message nr: {random_nr}\\n\")\n",
    "print(messages[random_nr])\n",
    "print(f\"Message from human\" if labels[random_nr][0] == 1 else \"Message from bot\")\n",
    "print(f\"\\nMessage from game with id: {game_ids[random_nr]}\")"
   ]
  },
  {
   "cell_type": "code",
   "execution_count": 9,
   "id": "7dee9868",
   "metadata": {},
   "outputs": [
    {
     "name": "stdout",
     "output_type": "stream",
     "text": [
      "Running on cpu\n"
     ]
    }
   ],
   "source": [
    "device = \"cuda\" if torch.cuda.is_available() else \"cpu\"\n",
    "print(f\"Running on {device}\")\n",
    "client = OpenAI(\n",
    "    api_key=\"EMPTY\",\n",
    "    base_url=\"http://localhost:8000/v1\"\n",
    ")\n",
    "embedding_model = \"intfloat/multilingual-e5-large-instruct\""
   ]
  },
  {
   "cell_type": "code",
   "execution_count": 10,
   "id": "db1e0d15-85bd-44c6-8c8e-b83937362c4f",
   "metadata": {},
   "outputs": [
    {
     "name": "stdout",
     "output_type": "stream",
     "text": [
      "Took 28.69s\n"
     ]
    }
   ],
   "source": [
    "then = time.time()\n",
    "message_encodings = client.embeddings.create(input = messages, model=embedding_model)\n",
    "message_encodings = [message.embedding for message in message_encodings.data]\n",
    "print(f\"Took {time.time() - then:.2f}s\")\n",
    "\n",
    "with open('data/message_encodings.pkl', 'wb') as f:\n",
    "    pickle.dump(message_encodings, f)\n",
    "with open('data/labels.pkl', 'wb') as f:\n",
    "    pickle.dump(labels, f)"
   ]
  }
 ],
 "metadata": {
  "kernelspec": {
   "display_name": "python312",
   "language": "python",
   "name": "python3"
  },
  "language_info": {
   "codemirror_mode": {
    "name": "ipython",
    "version": 3
   },
   "file_extension": ".py",
   "mimetype": "text/x-python",
   "name": "python",
   "nbconvert_exporter": "python",
   "pygments_lexer": "ipython3",
   "version": "3.12.5"
  }
 },
 "nbformat": 4,
 "nbformat_minor": 5
}
